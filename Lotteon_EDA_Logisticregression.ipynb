{
 "cells": [
  {
   "cell_type": "code",
   "execution_count": 16,
   "metadata": {
    "colab": {
     "base_uri": "https://localhost:8080/",
     "height": 326
    },
    "collapsed": true,
    "executionInfo": {
     "elapsed": 3111,
     "status": "ok",
     "timestamp": 1601793971583,
     "user": {
      "displayName": "전병용",
      "photoUrl": "",
      "userId": "10639278602930142408"
     },
     "user_tz": -540
    },
    "id": "nOfSmTOYRe6w",
    "outputId": "e43f112c-7eab-4d60-fcdc-b4e4e6c398e0"
   },
   "outputs": [
    {
     "name": "stdout",
     "output_type": "stream",
     "text": [
      "Requirement already satisfied: konlpy in /usr/local/lib/python3.6/dist-packages (0.5.2)\n",
      "Requirement already satisfied: tweepy>=3.7.0 in /usr/local/lib/python3.6/dist-packages (from konlpy) (3.9.0)\n",
      "Requirement already satisfied: colorama in /usr/local/lib/python3.6/dist-packages (from konlpy) (0.4.3)\n",
      "Requirement already satisfied: beautifulsoup4==4.6.0 in /usr/local/lib/python3.6/dist-packages (from konlpy) (4.6.0)\n",
      "Requirement already satisfied: lxml>=4.1.0 in /usr/local/lib/python3.6/dist-packages (from konlpy) (4.2.6)\n",
      "Requirement already satisfied: numpy>=1.6 in /usr/local/lib/python3.6/dist-packages (from konlpy) (1.18.5)\n",
      "Requirement already satisfied: JPype1>=0.7.0 in /usr/local/lib/python3.6/dist-packages (from konlpy) (1.0.2)\n",
      "Requirement already satisfied: six>=1.10.0 in /usr/local/lib/python3.6/dist-packages (from tweepy>=3.7.0->konlpy) (1.15.0)\n",
      "Requirement already satisfied: requests-oauthlib>=0.7.0 in /usr/local/lib/python3.6/dist-packages (from tweepy>=3.7.0->konlpy) (1.3.0)\n",
      "Requirement already satisfied: requests[socks]>=2.11.1 in /usr/local/lib/python3.6/dist-packages (from tweepy>=3.7.0->konlpy) (2.23.0)\n",
      "Requirement already satisfied: typing-extensions; python_version < \"3.8\" in /usr/local/lib/python3.6/dist-packages (from JPype1>=0.7.0->konlpy) (3.7.4.3)\n",
      "Requirement already satisfied: oauthlib>=3.0.0 in /usr/local/lib/python3.6/dist-packages (from requests-oauthlib>=0.7.0->tweepy>=3.7.0->konlpy) (3.1.0)\n",
      "Requirement already satisfied: chardet<4,>=3.0.2 in /usr/local/lib/python3.6/dist-packages (from requests[socks]>=2.11.1->tweepy>=3.7.0->konlpy) (3.0.4)\n",
      "Requirement already satisfied: certifi>=2017.4.17 in /usr/local/lib/python3.6/dist-packages (from requests[socks]>=2.11.1->tweepy>=3.7.0->konlpy) (2020.6.20)\n",
      "Requirement already satisfied: urllib3!=1.25.0,!=1.25.1,<1.26,>=1.21.1 in /usr/local/lib/python3.6/dist-packages (from requests[socks]>=2.11.1->tweepy>=3.7.0->konlpy) (1.24.3)\n",
      "Requirement already satisfied: idna<3,>=2.5 in /usr/local/lib/python3.6/dist-packages (from requests[socks]>=2.11.1->tweepy>=3.7.0->konlpy) (2.10)\n",
      "Requirement already satisfied: PySocks!=1.5.7,>=1.5.6; extra == \"socks\" in /usr/local/lib/python3.6/dist-packages (from requests[socks]>=2.11.1->tweepy>=3.7.0->konlpy) (1.7.1)\n"
     ]
    }
   ],
   "source": [
    "pip install konlpy"
   ]
  },
  {
   "cell_type": "code",
   "execution_count": 2,
   "metadata": {
    "colab": {
     "base_uri": "https://localhost:8080/",
     "height": 51
    },
    "executionInfo": {
     "elapsed": 1669,
     "status": "ok",
     "timestamp": 1601793971587,
     "user": {
      "displayName": "전병용",
      "photoUrl": "",
      "userId": "10639278602930142408"
     },
     "user_tz": -540
    },
    "id": "Mud7OfGPRX07",
    "outputId": "3aaa31ca-78dd-4b8d-f018-f9582b0b8af6"
   },
   "outputs": [
    {
     "name": "stderr",
     "output_type": "stream",
     "text": [
      "D:\\programfiles\\anaconda3\\envs\\pythonopencv\\lib\\site-packages\\konlpy\\tag\\_okt.py:16: UserWarning: \"Twitter\" has changed to \"Okt\" since KoNLPy v0.4.5.\n",
      "  warn('\"Twitter\" has changed to \"Okt\" since KoNLPy v0.4.5.')\n"
     ]
    }
   ],
   "source": [
    "from datetime import datetime\n",
    "import pandas as pd\n",
    "import matplotlib.pyplot as plt\n",
    "%matplotlib inline\n",
    "from konlpy.tag import Twitter\n",
    "twt = Twitter()\n",
    "#from hanspell import spell_checker\n",
    "import re\n",
    "from konlpy.tag import Okt\n",
    "from collections import Counter\n",
    "from sklearn.feature_extraction.text import CountVectorizer\n",
    "from konlpy.tag import Okt\n",
    "from collections import Counter\n",
    "from sklearn.feature_extraction.text import TfidfTransformer\n",
    "from sklearn.model_selection import train_test_split\n",
    "from sklearn.linear_model import LogisticRegression\n",
    "from sklearn.metrics import accuracy_score, precision_score, recall_score, f1_score\n",
    "from sklearn.metrics import confusion_matrix"
   ]
  },
  {
   "cell_type": "code",
   "execution_count": 3,
   "metadata": {
    "colab": {
     "base_uri": "https://localhost:8080/",
     "height": 195
    },
    "executionInfo": {
     "elapsed": 615,
     "status": "ok",
     "timestamp": 1601794409346,
     "user": {
      "displayName": "전병용",
      "photoUrl": "",
      "userId": "10639278602930142408"
     },
     "user_tz": -540
    },
    "id": "PCPRL2A1SOzh",
    "outputId": "5a5fcea9-87a1-4dfe-8c0f-82e135abb2d1"
   },
   "outputs": [
    {
     "data": {
      "text/html": [
       "<div>\n",
       "<style scoped>\n",
       "    .dataframe tbody tr th:only-of-type {\n",
       "        vertical-align: middle;\n",
       "    }\n",
       "\n",
       "    .dataframe tbody tr th {\n",
       "        vertical-align: top;\n",
       "    }\n",
       "\n",
       "    .dataframe thead th {\n",
       "        text-align: right;\n",
       "    }\n",
       "</style>\n",
       "<table border=\"1\" class=\"dataframe\">\n",
       "  <thead>\n",
       "    <tr style=\"text-align: right;\">\n",
       "      <th></th>\n",
       "      <th>name</th>\n",
       "      <th>ratings</th>\n",
       "      <th>date</th>\n",
       "      <th>helpful</th>\n",
       "      <th>comment</th>\n",
       "      <th>developer_comment</th>\n",
       "    </tr>\n",
       "  </thead>\n",
       "  <tbody>\n",
       "    <tr>\n",
       "      <th>0</th>\n",
       "      <td>이상현</td>\n",
       "      <td>1</td>\n",
       "      <td>2020-10-05</td>\n",
       "      <td>0</td>\n",
       "      <td>개발자분들이 실력이 없으면 그냥 다른곳에 넘겨주고 어플 새로 만들어라 몇개월이 지나...</td>\n",
       "      <td>NaN</td>\n",
       "    </tr>\n",
       "    <tr>\n",
       "      <th>1</th>\n",
       "      <td>DA T</td>\n",
       "      <td>3</td>\n",
       "      <td>2020-10-05</td>\n",
       "      <td>0</td>\n",
       "      <td>퍼스트먼데이가 적용되는거 안되는거가 섞여있어 쓰기가 어렵네요..</td>\n",
       "      <td>NaN</td>\n",
       "    </tr>\n",
       "    <tr>\n",
       "      <th>2</th>\n",
       "      <td>거누거누</td>\n",
       "      <td>1</td>\n",
       "      <td>2020-10-05</td>\n",
       "      <td>0</td>\n",
       "      <td>지나느롯데닷컴에 비해 5배정도 느려서ㅜ쇼핑하기가 싫어집니다</td>\n",
       "      <td>NaN</td>\n",
       "    </tr>\n",
       "    <tr>\n",
       "      <th>3</th>\n",
       "      <td>송철호</td>\n",
       "      <td>2</td>\n",
       "      <td>2020-10-05</td>\n",
       "      <td>0</td>\n",
       "      <td>롯데프레시에서 생일쿠폰이 왔다고 해서 로그인해서 보니 보내준 쿠폰의 마이페이지 항목...</td>\n",
       "      <td>NaN</td>\n",
       "    </tr>\n",
       "    <tr>\n",
       "      <th>4</th>\n",
       "      <td>우가연</td>\n",
       "      <td>1</td>\n",
       "      <td>2020-10-05</td>\n",
       "      <td>0</td>\n",
       "      <td>제발.. 장바구니 추가와 삭제시.. 빨리되게 해주세요. 로딩이 넘넘 오래걸려요.. ...</td>\n",
       "      <td>NaN</td>\n",
       "    </tr>\n",
       "  </tbody>\n",
       "</table>\n",
       "</div>"
      ],
      "text/plain": [
       "   name  ratings        date  helpful  \\\n",
       "0   이상현        1  2020-10-05        0   \n",
       "1  DA T        3  2020-10-05        0   \n",
       "2  거누거누        1  2020-10-05        0   \n",
       "3   송철호        2  2020-10-05        0   \n",
       "4   우가연        1  2020-10-05        0   \n",
       "\n",
       "                                             comment developer_comment  \n",
       "0  개발자분들이 실력이 없으면 그냥 다른곳에 넘겨주고 어플 새로 만들어라 몇개월이 지나...               NaN  \n",
       "1                퍼스트먼데이가 적용되는거 안되는거가 섞여있어 쓰기가 어렵네요..               NaN  \n",
       "2                   지나느롯데닷컴에 비해 5배정도 느려서ㅜ쇼핑하기가 싫어집니다               NaN  \n",
       "3  롯데프레시에서 생일쿠폰이 왔다고 해서 로그인해서 보니 보내준 쿠폰의 마이페이지 항목...               NaN  \n",
       "4  제발.. 장바구니 추가와 삭제시.. 빨리되게 해주세요. 로딩이 넘넘 오래걸려요.. ...               NaN  "
      ]
     },
     "execution_count": 3,
     "metadata": {},
     "output_type": "execute_result"
    }
   ],
   "source": [
    "df = pd.read_csv('./result/2020-10-06_14-16-09.csv')\n",
    "df.head()"
   ]
  },
  {
   "cell_type": "code",
   "execution_count": 4,
   "metadata": {
    "colab": {
     "base_uri": "https://localhost:8080/",
     "height": 101
    },
    "executionInfo": {
     "elapsed": 643,
     "status": "ok",
     "timestamp": 1601794410391,
     "user": {
      "displayName": "전병용",
      "photoUrl": "",
      "userId": "10639278602930142408"
     },
     "user_tz": -540
    },
    "id": "NoDYriP3Sbas",
    "outputId": "c7c456b1-9ee5-404c-9271-a5c7e2830572"
   },
   "outputs": [
    {
     "data": {
      "text/plain": [
       "date       0\n",
       "comment    0\n",
       "ratings    0\n",
       "helpful    0\n",
       "dtype: int64"
      ]
     },
     "execution_count": 4,
     "metadata": {},
     "output_type": "execute_result"
    }
   ],
   "source": [
    "df = df[['date','comment','ratings','helpful']]\n",
    "df = df.dropna()\n",
    "df.isnull().sum()"
   ]
  },
  {
   "cell_type": "code",
   "execution_count": 5,
   "metadata": {
    "id": "gUXwj3snXNuP"
   },
   "outputs": [
    {
     "data": {
      "text/html": [
       "<div>\n",
       "<style scoped>\n",
       "    .dataframe tbody tr th:only-of-type {\n",
       "        vertical-align: middle;\n",
       "    }\n",
       "\n",
       "    .dataframe tbody tr th {\n",
       "        vertical-align: top;\n",
       "    }\n",
       "\n",
       "    .dataframe thead th {\n",
       "        text-align: right;\n",
       "    }\n",
       "</style>\n",
       "<table border=\"1\" class=\"dataframe\">\n",
       "  <thead>\n",
       "    <tr style=\"text-align: right;\">\n",
       "      <th></th>\n",
       "      <th>date</th>\n",
       "      <th>comment</th>\n",
       "      <th>ratings</th>\n",
       "      <th>helpful</th>\n",
       "    </tr>\n",
       "  </thead>\n",
       "  <tbody>\n",
       "    <tr>\n",
       "      <th>2134</th>\n",
       "      <td>2020-04-28</td>\n",
       "      <td>최악입니다. 롯데온으로 바뀌면서 회원등급도 기존vip였는데 최저등급부터 시작하라네요...</td>\n",
       "      <td>1</td>\n",
       "      <td>270</td>\n",
       "    </tr>\n",
       "    <tr>\n",
       "      <th>2089</th>\n",
       "      <td>2020-04-28</td>\n",
       "      <td>앱 오픈하기전에 최소한의 테스트는 해 보고 했어야쥐... 기본도 안 됨... 갑자기...</td>\n",
       "      <td>1</td>\n",
       "      <td>267</td>\n",
       "    </tr>\n",
       "    <tr>\n",
       "      <th>2641</th>\n",
       "      <td>2018-10-02</td>\n",
       "      <td>앱 반응 속도가 상당히 느리고 오류로 자동 종료되는 경우가 잦음.</td>\n",
       "      <td>2</td>\n",
       "      <td>264</td>\n",
       "    </tr>\n",
       "    <tr>\n",
       "      <th>463</th>\n",
       "      <td>2020-06-07</td>\n",
       "      <td>제품상세설명이나 사진이 줌 기능이 안되어 있어 엄청 불편합니다. 이벤트 쿠폰할인도 ...</td>\n",
       "      <td>2</td>\n",
       "      <td>203</td>\n",
       "    </tr>\n",
       "    <tr>\n",
       "      <th>3610</th>\n",
       "      <td>2016-07-02</td>\n",
       "      <td>앱에서 주문하면 엘포인트 더 준다더니.. 로그인도 안되고.. 비번을 찾으려해도 계속...</td>\n",
       "      <td>1</td>\n",
       "      <td>151</td>\n",
       "    </tr>\n",
       "    <tr>\n",
       "      <th>525</th>\n",
       "      <td>2020-05-29</td>\n",
       "      <td>3조원 부어서 결국 링크 사이트 하나 만든 느낌입니다. 추후 얼마나 안정화가 되고 ...</td>\n",
       "      <td>1</td>\n",
       "      <td>149</td>\n",
       "    </tr>\n",
       "    <tr>\n",
       "      <th>2137</th>\n",
       "      <td>2020-04-28</td>\n",
       "      <td>찜한 목록 사용이 너무 불편해요. 찜을 누르면 찜한 목록이 초기 10개 정도만 보이...</td>\n",
       "      <td>2</td>\n",
       "      <td>149</td>\n",
       "    </tr>\n",
       "    <tr>\n",
       "      <th>1683</th>\n",
       "      <td>2020-04-29</td>\n",
       "      <td>저도 왠만하면 이런 글 안 올리는데요! 어제는 거의 하루종일 검색도 잘 안되고......</td>\n",
       "      <td>1</td>\n",
       "      <td>144</td>\n",
       "    </tr>\n",
       "    <tr>\n",
       "      <th>3519</th>\n",
       "      <td>2016-09-30</td>\n",
       "      <td>왠만하면 이런글 안쓰는데 페이지 넘길때마다 답답함 검색하는것도 한나절  소비자는 검...</td>\n",
       "      <td>1</td>\n",
       "      <td>143</td>\n",
       "    </tr>\n",
       "    <tr>\n",
       "      <th>3115</th>\n",
       "      <td>2017-08-03</td>\n",
       "      <td>몇일째, 비밀번호 바꺼도 틀렸다고 나오고 진짜 열받어서 이거 왜이럽니까? 수시로 보...</td>\n",
       "      <td>1</td>\n",
       "      <td>138</td>\n",
       "    </tr>\n",
       "    <tr>\n",
       "      <th>3488</th>\n",
       "      <td>2016-11-01</td>\n",
       "      <td>아니 지금 어느시대인데 솔직히 쿠팡앱도 롯데 앱보다 빠르당 앱실행도 느릿느릿 상품 ...</td>\n",
       "      <td>2</td>\n",
       "      <td>131</td>\n",
       "    </tr>\n",
       "    <tr>\n",
       "      <th>569</th>\n",
       "      <td>2020-05-24</td>\n",
       "      <td>쓸 수도 없는 무료배송 쿠폰은 왜 또 주나요? 가격 상관없이 쓸수 있대서 막상 쓰려...</td>\n",
       "      <td>1</td>\n",
       "      <td>125</td>\n",
       "    </tr>\n",
       "    <tr>\n",
       "      <th>878</th>\n",
       "      <td>2020-05-09</td>\n",
       "      <td>정말 별로입니다. 플래티넘+ 등급, 장바구니 목록도 없애버리고 다시 등급 높이려면 ...</td>\n",
       "      <td>1</td>\n",
       "      <td>119</td>\n",
       "    </tr>\n",
       "    <tr>\n",
       "      <th>1508</th>\n",
       "      <td>2020-04-30</td>\n",
       "      <td>롯데닷컴만 주구장창 사용했는데 공지도 없이 갑자기 앱이 사라지더니..나원참.. 좀전...</td>\n",
       "      <td>1</td>\n",
       "      <td>118</td>\n",
       "    </tr>\n",
       "    <tr>\n",
       "      <th>1723</th>\n",
       "      <td>2020-04-29</td>\n",
       "      <td>별하나도 아까움. 개떡같음... 갑자기 새롭게 바뀐다더니 이상하게 만들어 놨네요. ...</td>\n",
       "      <td>1</td>\n",
       "      <td>113</td>\n",
       "    </tr>\n",
       "    <tr>\n",
       "      <th>327</th>\n",
       "      <td>2020-06-23</td>\n",
       "      <td>별 한개도 아깝네요 업뎃이후 장보기는 물론 몰 이동도 자꾸 오류나서 하지도 못하고 ...</td>\n",
       "      <td>1</td>\n",
       "      <td>112</td>\n",
       "    </tr>\n",
       "    <tr>\n",
       "      <th>967</th>\n",
       "      <td>2020-05-08</td>\n",
       "      <td>10년넘게 우수고객으로 잘 사용했는데 이젠 떠나야 할 때가 되었나보네요. 너무 검색...</td>\n",
       "      <td>1</td>\n",
       "      <td>111</td>\n",
       "    </tr>\n",
       "    <tr>\n",
       "      <th>3568</th>\n",
       "      <td>2016-08-15</td>\n",
       "      <td>로그인 첫 실팬데 10회 오류라고 홈페이지 드가서 바꾸라고함 ㅡㅡ 한번 틀려도 걍 ...</td>\n",
       "      <td>1</td>\n",
       "      <td>110</td>\n",
       "    </tr>\n",
       "    <tr>\n",
       "      <th>3531</th>\n",
       "      <td>2016-09-16</td>\n",
       "      <td>근데 반품이 되면 바로 환불처리가 안된다는 점이 좀 불편하네요.제 돈은 닷컴에 묶여...</td>\n",
       "      <td>5</td>\n",
       "      <td>108</td>\n",
       "    </tr>\n",
       "    <tr>\n",
       "      <th>3386</th>\n",
       "      <td>2017-01-10</td>\n",
       "      <td>롯데닷컴 결제시 droid x백신으로 강제소환됩니다. 경쟁사 및 타소규모 쇼핑앱도 ...</td>\n",
       "      <td>1</td>\n",
       "      <td>108</td>\n",
       "    </tr>\n",
       "  </tbody>\n",
       "</table>\n",
       "</div>"
      ],
      "text/plain": [
       "            date                                            comment  ratings  \\\n",
       "2134  2020-04-28  최악입니다. 롯데온으로 바뀌면서 회원등급도 기존vip였는데 최저등급부터 시작하라네요...        1   \n",
       "2089  2020-04-28  앱 오픈하기전에 최소한의 테스트는 해 보고 했어야쥐... 기본도 안 됨... 갑자기...        1   \n",
       "2641  2018-10-02               앱 반응 속도가 상당히 느리고 오류로 자동 종료되는 경우가 잦음.        2   \n",
       "463   2020-06-07  제품상세설명이나 사진이 줌 기능이 안되어 있어 엄청 불편합니다. 이벤트 쿠폰할인도 ...        2   \n",
       "3610  2016-07-02  앱에서 주문하면 엘포인트 더 준다더니.. 로그인도 안되고.. 비번을 찾으려해도 계속...        1   \n",
       "525   2020-05-29  3조원 부어서 결국 링크 사이트 하나 만든 느낌입니다. 추후 얼마나 안정화가 되고 ...        1   \n",
       "2137  2020-04-28  찜한 목록 사용이 너무 불편해요. 찜을 누르면 찜한 목록이 초기 10개 정도만 보이...        2   \n",
       "1683  2020-04-29  저도 왠만하면 이런 글 안 올리는데요! 어제는 거의 하루종일 검색도 잘 안되고......        1   \n",
       "3519  2016-09-30  왠만하면 이런글 안쓰는데 페이지 넘길때마다 답답함 검색하는것도 한나절  소비자는 검...        1   \n",
       "3115  2017-08-03  몇일째, 비밀번호 바꺼도 틀렸다고 나오고 진짜 열받어서 이거 왜이럽니까? 수시로 보...        1   \n",
       "3488  2016-11-01  아니 지금 어느시대인데 솔직히 쿠팡앱도 롯데 앱보다 빠르당 앱실행도 느릿느릿 상품 ...        2   \n",
       "569   2020-05-24  쓸 수도 없는 무료배송 쿠폰은 왜 또 주나요? 가격 상관없이 쓸수 있대서 막상 쓰려...        1   \n",
       "878   2020-05-09  정말 별로입니다. 플래티넘+ 등급, 장바구니 목록도 없애버리고 다시 등급 높이려면 ...        1   \n",
       "1508  2020-04-30  롯데닷컴만 주구장창 사용했는데 공지도 없이 갑자기 앱이 사라지더니..나원참.. 좀전...        1   \n",
       "1723  2020-04-29  별하나도 아까움. 개떡같음... 갑자기 새롭게 바뀐다더니 이상하게 만들어 놨네요. ...        1   \n",
       "327   2020-06-23  별 한개도 아깝네요 업뎃이후 장보기는 물론 몰 이동도 자꾸 오류나서 하지도 못하고 ...        1   \n",
       "967   2020-05-08  10년넘게 우수고객으로 잘 사용했는데 이젠 떠나야 할 때가 되었나보네요. 너무 검색...        1   \n",
       "3568  2016-08-15  로그인 첫 실팬데 10회 오류라고 홈페이지 드가서 바꾸라고함 ㅡㅡ 한번 틀려도 걍 ...        1   \n",
       "3531  2016-09-16  근데 반품이 되면 바로 환불처리가 안된다는 점이 좀 불편하네요.제 돈은 닷컴에 묶여...        5   \n",
       "3386  2017-01-10  롯데닷컴 결제시 droid x백신으로 강제소환됩니다. 경쟁사 및 타소규모 쇼핑앱도 ...        1   \n",
       "\n",
       "      helpful  \n",
       "2134      270  \n",
       "2089      267  \n",
       "2641      264  \n",
       "463       203  \n",
       "3610      151  \n",
       "525       149  \n",
       "2137      149  \n",
       "1683      144  \n",
       "3519      143  \n",
       "3115      138  \n",
       "3488      131  \n",
       "569       125  \n",
       "878       119  \n",
       "1508      118  \n",
       "1723      113  \n",
       "327       112  \n",
       "967       111  \n",
       "3568      110  \n",
       "3531      108  \n",
       "3386      108  "
      ]
     },
     "execution_count": 5,
     "metadata": {},
     "output_type": "execute_result"
    }
   ],
   "source": [
    "df.sort_values('helpful', ascending=False).head(20)"
   ]
  },
  {
   "cell_type": "code",
   "execution_count": 6,
   "metadata": {
    "executionInfo": {
     "elapsed": 606,
     "status": "ok",
     "timestamp": 1601794540339,
     "user": {
      "displayName": "전병용",
      "photoUrl": "",
      "userId": "10639278602930142408"
     },
     "user_tz": -540
    },
    "id": "-oXThikgZPdu"
   },
   "outputs": [],
   "source": [
    "def text_cleaning(text):\n",
    "    hangul = re.compile('[|ㄱ-ㅎ|ㅏ-ㅣ]+') # 한글의 정규표현식을 나타냅니다.\n",
    "    result = hangul.sub('', text)\n",
    "    return result"
   ]
  },
  {
   "cell_type": "code",
   "execution_count": 7,
   "metadata": {
    "executionInfo": {
     "elapsed": 643,
     "status": "ok",
     "timestamp": 1601794518781,
     "user": {
      "displayName": "전병용",
      "photoUrl": "",
      "userId": "10639278602930142408"
     },
     "user_tz": -540
    },
    "id": "ujTibArtZDrI"
   },
   "outputs": [],
   "source": [
    "def text_cleaning2(text):\n",
    "    hangul = re.compile('[^ ㄱ-ㅣ가-힣]+') # 한글의 정규표현식을 나타냅니다.\n",
    "    result = hangul.sub('', text)\n",
    "    return result"
   ]
  },
  {
   "cell_type": "code",
   "execution_count": 8,
   "metadata": {
    "colab": {
     "base_uri": "https://localhost:8080/",
     "height": 279
    },
    "executionInfo": {
     "elapsed": 685,
     "status": "ok",
     "timestamp": 1601794542963,
     "user": {
      "displayName": "전병용",
      "photoUrl": "",
      "userId": "10639278602930142408"
     },
     "user_tz": -540
    },
    "id": "OWldj4wNZHka",
    "outputId": "4aa4f630-3c17-4288-ee87-6c77eeeadd83"
   },
   "outputs": [
    {
     "data": {
      "text/html": [
       "<div>\n",
       "<style scoped>\n",
       "    .dataframe tbody tr th:only-of-type {\n",
       "        vertical-align: middle;\n",
       "    }\n",
       "\n",
       "    .dataframe tbody tr th {\n",
       "        vertical-align: top;\n",
       "    }\n",
       "\n",
       "    .dataframe thead th {\n",
       "        text-align: right;\n",
       "    }\n",
       "</style>\n",
       "<table border=\"1\" class=\"dataframe\">\n",
       "  <thead>\n",
       "    <tr style=\"text-align: right;\">\n",
       "      <th></th>\n",
       "      <th>date</th>\n",
       "      <th>comment</th>\n",
       "      <th>ratings</th>\n",
       "      <th>helpful</th>\n",
       "      <th>ko_text</th>\n",
       "    </tr>\n",
       "  </thead>\n",
       "  <tbody>\n",
       "    <tr>\n",
       "      <th>0</th>\n",
       "      <td>2020-10-05</td>\n",
       "      <td>개발자분들이 실력이 없으면 그냥 다른곳에 넘겨주고 어플 새로 만들어라 몇개월이 지나...</td>\n",
       "      <td>1</td>\n",
       "      <td>0</td>\n",
       "      <td>개발자분들이 실력이 없으면 그냥 다른곳에 넘겨주고 어플 새로 만들어라 몇개월이 지나...</td>\n",
       "    </tr>\n",
       "    <tr>\n",
       "      <th>1</th>\n",
       "      <td>2020-10-05</td>\n",
       "      <td>퍼스트먼데이가 적용되는거 안되는거가 섞여있어 쓰기가 어렵네요..</td>\n",
       "      <td>3</td>\n",
       "      <td>0</td>\n",
       "      <td>퍼스트먼데이가 적용되는거 안되는거가 섞여있어 쓰기가 어렵네요..</td>\n",
       "    </tr>\n",
       "    <tr>\n",
       "      <th>2</th>\n",
       "      <td>2020-10-05</td>\n",
       "      <td>지나느롯데닷컴에 비해 5배정도 느려서ㅜ쇼핑하기가 싫어집니다</td>\n",
       "      <td>1</td>\n",
       "      <td>0</td>\n",
       "      <td>지나느롯데닷컴에 비해 5배정도 느려서쇼핑하기가 싫어집니다</td>\n",
       "    </tr>\n",
       "    <tr>\n",
       "      <th>3</th>\n",
       "      <td>2020-10-05</td>\n",
       "      <td>롯데프레시에서 생일쿠폰이 왔다고 해서 로그인해서 보니 보내준 쿠폰의 마이페이지 항목...</td>\n",
       "      <td>2</td>\n",
       "      <td>0</td>\n",
       "      <td>롯데프레시에서 생일쿠폰이 왔다고 해서 로그인해서 보니 보내준 쿠폰의 마이페이지 항목...</td>\n",
       "    </tr>\n",
       "    <tr>\n",
       "      <th>4</th>\n",
       "      <td>2020-10-05</td>\n",
       "      <td>제발.. 장바구니 추가와 삭제시.. 빨리되게 해주세요. 로딩이 넘넘 오래걸려요.. ...</td>\n",
       "      <td>1</td>\n",
       "      <td>0</td>\n",
       "      <td>제발.. 장바구니 추가와 삭제시.. 빨리되게 해주세요. 로딩이 넘넘 오래걸려요.. ...</td>\n",
       "    </tr>\n",
       "  </tbody>\n",
       "</table>\n",
       "</div>"
      ],
      "text/plain": [
       "         date                                            comment  ratings  \\\n",
       "0  2020-10-05  개발자분들이 실력이 없으면 그냥 다른곳에 넘겨주고 어플 새로 만들어라 몇개월이 지나...        1   \n",
       "1  2020-10-05                퍼스트먼데이가 적용되는거 안되는거가 섞여있어 쓰기가 어렵네요..        3   \n",
       "2  2020-10-05                   지나느롯데닷컴에 비해 5배정도 느려서ㅜ쇼핑하기가 싫어집니다        1   \n",
       "3  2020-10-05  롯데프레시에서 생일쿠폰이 왔다고 해서 로그인해서 보니 보내준 쿠폰의 마이페이지 항목...        2   \n",
       "4  2020-10-05  제발.. 장바구니 추가와 삭제시.. 빨리되게 해주세요. 로딩이 넘넘 오래걸려요.. ...        1   \n",
       "\n",
       "   helpful                                            ko_text  \n",
       "0        0  개발자분들이 실력이 없으면 그냥 다른곳에 넘겨주고 어플 새로 만들어라 몇개월이 지나...  \n",
       "1        0                퍼스트먼데이가 적용되는거 안되는거가 섞여있어 쓰기가 어렵네요..  \n",
       "2        0                    지나느롯데닷컴에 비해 5배정도 느려서쇼핑하기가 싫어집니다  \n",
       "3        0  롯데프레시에서 생일쿠폰이 왔다고 해서 로그인해서 보니 보내준 쿠폰의 마이페이지 항목...  \n",
       "4        0  제발.. 장바구니 추가와 삭제시.. 빨리되게 해주세요. 로딩이 넘넘 오래걸려요.. ...  "
      ]
     },
     "execution_count": 8,
     "metadata": {},
     "output_type": "execute_result"
    }
   ],
   "source": [
    "df['ko_text'] = df['comment'].apply(lambda x: text_cleaning(x))\n",
    "df.head()"
   ]
  },
  {
   "cell_type": "code",
   "execution_count": 9,
   "metadata": {
    "id": "k5lygkw-ZT52"
   },
   "outputs": [
    {
     "data": {
      "text/html": [
       "<div>\n",
       "<style scoped>\n",
       "    .dataframe tbody tr th:only-of-type {\n",
       "        vertical-align: middle;\n",
       "    }\n",
       "\n",
       "    .dataframe tbody tr th {\n",
       "        vertical-align: top;\n",
       "    }\n",
       "\n",
       "    .dataframe thead th {\n",
       "        text-align: right;\n",
       "    }\n",
       "</style>\n",
       "<table border=\"1\" class=\"dataframe\">\n",
       "  <thead>\n",
       "    <tr style=\"text-align: right;\">\n",
       "      <th></th>\n",
       "      <th>date</th>\n",
       "      <th>comment</th>\n",
       "      <th>ratings</th>\n",
       "      <th>helpful</th>\n",
       "      <th>ko_text</th>\n",
       "    </tr>\n",
       "  </thead>\n",
       "  <tbody>\n",
       "    <tr>\n",
       "      <th>0</th>\n",
       "      <td>2020-10-05</td>\n",
       "      <td>개발자분들이 실력이 없으면 그냥 다른곳에 넘겨주고 어플 새로 만들어라 몇개월이 지나...</td>\n",
       "      <td>1</td>\n",
       "      <td>0</td>\n",
       "      <td>개발자분들이 실력이 없으면 그냥 다른곳에 넘겨주고 어플 새로 만들어라 몇개월이 지나...</td>\n",
       "    </tr>\n",
       "    <tr>\n",
       "      <th>1</th>\n",
       "      <td>2020-10-05</td>\n",
       "      <td>퍼스트먼데이가 적용되는거 안되는거가 섞여있어 쓰기가 어렵네요..</td>\n",
       "      <td>3</td>\n",
       "      <td>0</td>\n",
       "      <td>퍼스트먼데이가 적용되는거 안되는거가 섞여있어 쓰기가 어렵네요</td>\n",
       "    </tr>\n",
       "    <tr>\n",
       "      <th>2</th>\n",
       "      <td>2020-10-05</td>\n",
       "      <td>지나느롯데닷컴에 비해 5배정도 느려서ㅜ쇼핑하기가 싫어집니다</td>\n",
       "      <td>1</td>\n",
       "      <td>0</td>\n",
       "      <td>지나느롯데닷컴에 비해 배정도 느려서쇼핑하기가 싫어집니다</td>\n",
       "    </tr>\n",
       "    <tr>\n",
       "      <th>3</th>\n",
       "      <td>2020-10-05</td>\n",
       "      <td>롯데프레시에서 생일쿠폰이 왔다고 해서 로그인해서 보니 보내준 쿠폰의 마이페이지 항목...</td>\n",
       "      <td>2</td>\n",
       "      <td>0</td>\n",
       "      <td>롯데프레시에서 생일쿠폰이 왔다고 해서 로그인해서 보니 보내준 쿠폰의 마이페이지 항목...</td>\n",
       "    </tr>\n",
       "    <tr>\n",
       "      <th>4</th>\n",
       "      <td>2020-10-05</td>\n",
       "      <td>제발.. 장바구니 추가와 삭제시.. 빨리되게 해주세요. 로딩이 넘넘 오래걸려요.. ...</td>\n",
       "      <td>1</td>\n",
       "      <td>0</td>\n",
       "      <td>제발 장바구니 추가와 삭제시 빨리되게 해주세요 로딩이 넘넘 오래걸려요 롯데닷컴때만큼...</td>\n",
       "    </tr>\n",
       "  </tbody>\n",
       "</table>\n",
       "</div>"
      ],
      "text/plain": [
       "         date                                            comment  ratings  \\\n",
       "0  2020-10-05  개발자분들이 실력이 없으면 그냥 다른곳에 넘겨주고 어플 새로 만들어라 몇개월이 지나...        1   \n",
       "1  2020-10-05                퍼스트먼데이가 적용되는거 안되는거가 섞여있어 쓰기가 어렵네요..        3   \n",
       "2  2020-10-05                   지나느롯데닷컴에 비해 5배정도 느려서ㅜ쇼핑하기가 싫어집니다        1   \n",
       "3  2020-10-05  롯데프레시에서 생일쿠폰이 왔다고 해서 로그인해서 보니 보내준 쿠폰의 마이페이지 항목...        2   \n",
       "4  2020-10-05  제발.. 장바구니 추가와 삭제시.. 빨리되게 해주세요. 로딩이 넘넘 오래걸려요.. ...        1   \n",
       "\n",
       "   helpful                                            ko_text  \n",
       "0        0  개발자분들이 실력이 없으면 그냥 다른곳에 넘겨주고 어플 새로 만들어라 몇개월이 지나...  \n",
       "1        0                  퍼스트먼데이가 적용되는거 안되는거가 섞여있어 쓰기가 어렵네요  \n",
       "2        0                     지나느롯데닷컴에 비해 배정도 느려서쇼핑하기가 싫어집니다  \n",
       "3        0  롯데프레시에서 생일쿠폰이 왔다고 해서 로그인해서 보니 보내준 쿠폰의 마이페이지 항목...  \n",
       "4        0  제발 장바구니 추가와 삭제시 빨리되게 해주세요 로딩이 넘넘 오래걸려요 롯데닷컴때만큼...  "
      ]
     },
     "execution_count": 9,
     "metadata": {},
     "output_type": "execute_result"
    }
   ],
   "source": [
    "df['ko_text'] = df['ko_text'].apply(lambda x: text_cleaning2(x))\n",
    "df.head()"
   ]
  },
  {
   "cell_type": "code",
   "execution_count": 13,
   "metadata": {
    "executionInfo": {
     "elapsed": 859,
     "status": "ok",
     "timestamp": 1601794633345,
     "user": {
      "displayName": "전병용",
      "photoUrl": "",
      "userId": "10639278602930142408"
     },
     "user_tz": -540
    },
    "id": "CI0EJqyxZcYm"
   },
   "outputs": [],
   "source": [
    "# 한국어 약식 불용어사전 예시 파일입니다. 출처 - (https://www.ranks.nl/stopwords/korean)\n",
    "korean_stopwords_path = \"./korean_stopwords.txt\"\n",
    "with open(korean_stopwords_path, encoding='utf8') as f:\n",
    "    stopwords = f.readlines()\n",
    "stopwords = [x.strip() for x in stopwords]\n",
    "\n",
    "def get_nouns(x):\n",
    "    nouns_tagger = Okt()\n",
    "    nouns = nouns_tagger.nouns(x)\n",
    "    \n",
    "    # 한글자 키워드를 제거합니다.\n",
    "    nouns = [noun for noun in nouns if len(noun) > 1]\n",
    "    \n",
    "    # 불용어를 제거합니다.\n",
    "    nouns = [noun for noun in nouns if noun not in stopwords]\n",
    "    \n",
    "    return nouns"
   ]
  },
  {
   "cell_type": "code",
   "execution_count": 14,
   "metadata": {
    "colab": {
     "base_uri": "https://localhost:8080/",
     "height": 296
    },
    "executionInfo": {
     "elapsed": 19795,
     "status": "ok",
     "timestamp": 1601794663590,
     "user": {
      "displayName": "전병용",
      "photoUrl": "",
      "userId": "10639278602930142408"
     },
     "user_tz": -540
    },
    "id": "SSHLe25HZpN4",
    "outputId": "88e52a68-614a-46e2-d7ef-ddccdf8ef138"
   },
   "outputs": [
    {
     "name": "stdout",
     "output_type": "stream",
     "text": [
      "(7149, 6)\n"
     ]
    },
    {
     "data": {
      "text/html": [
       "<div>\n",
       "<style scoped>\n",
       "    .dataframe tbody tr th:only-of-type {\n",
       "        vertical-align: middle;\n",
       "    }\n",
       "\n",
       "    .dataframe tbody tr th {\n",
       "        vertical-align: top;\n",
       "    }\n",
       "\n",
       "    .dataframe thead th {\n",
       "        text-align: right;\n",
       "    }\n",
       "</style>\n",
       "<table border=\"1\" class=\"dataframe\">\n",
       "  <thead>\n",
       "    <tr style=\"text-align: right;\">\n",
       "      <th></th>\n",
       "      <th>date</th>\n",
       "      <th>comment</th>\n",
       "      <th>ratings</th>\n",
       "      <th>helpful</th>\n",
       "      <th>ko_text</th>\n",
       "      <th>nouns</th>\n",
       "    </tr>\n",
       "  </thead>\n",
       "  <tbody>\n",
       "    <tr>\n",
       "      <th>0</th>\n",
       "      <td>2020-10-05</td>\n",
       "      <td>개발자분들이 실력이 없으면 그냥 다른곳에 넘겨주고 어플 새로 만들어라 몇개월이 지나...</td>\n",
       "      <td>1</td>\n",
       "      <td>0</td>\n",
       "      <td>개발자분들이 실력이 없으면 그냥 다른곳에 넘겨주고 어플 새로 만들어라 몇개월이 지나...</td>\n",
       "      <td>[개발자, 실력, 그냥, 어플, 몇개, 접속, 속도, 개선]</td>\n",
       "    </tr>\n",
       "    <tr>\n",
       "      <th>1</th>\n",
       "      <td>2020-10-05</td>\n",
       "      <td>퍼스트먼데이가 적용되는거 안되는거가 섞여있어 쓰기가 어렵네요..</td>\n",
       "      <td>3</td>\n",
       "      <td>0</td>\n",
       "      <td>퍼스트먼데이가 적용되는거 안되는거가 섞여있어 쓰기가 어렵네요</td>\n",
       "      <td>[퍼스트, 먼데이, 적용, 쓰기]</td>\n",
       "    </tr>\n",
       "    <tr>\n",
       "      <th>2</th>\n",
       "      <td>2020-10-05</td>\n",
       "      <td>지나느롯데닷컴에 비해 5배정도 느려서ㅜ쇼핑하기가 싫어집니다</td>\n",
       "      <td>1</td>\n",
       "      <td>0</td>\n",
       "      <td>지나느롯데닷컴에 비해 배정도 느려서쇼핑하기가 싫어집니다</td>\n",
       "      <td>[롯데, 배정, 쇼핑]</td>\n",
       "    </tr>\n",
       "    <tr>\n",
       "      <th>3</th>\n",
       "      <td>2020-10-05</td>\n",
       "      <td>롯데프레시에서 생일쿠폰이 왔다고 해서 로그인해서 보니 보내준 쿠폰의 마이페이지 항목...</td>\n",
       "      <td>2</td>\n",
       "      <td>0</td>\n",
       "      <td>롯데프레시에서 생일쿠폰이 왔다고 해서 로그인해서 보니 보내준 쿠폰의 마이페이지 항목...</td>\n",
       "      <td>[롯데, 프레, 생일, 쿠폰, 로그인, 쿠폰, 마이, 페이지, 항목, 보이지, 롯데...</td>\n",
       "    </tr>\n",
       "    <tr>\n",
       "      <th>4</th>\n",
       "      <td>2020-10-05</td>\n",
       "      <td>제발.. 장바구니 추가와 삭제시.. 빨리되게 해주세요. 로딩이 넘넘 오래걸려요.. ...</td>\n",
       "      <td>1</td>\n",
       "      <td>0</td>\n",
       "      <td>제발 장바구니 추가와 삭제시 빨리되게 해주세요 로딩이 넘넘 오래걸려요 롯데닷컴때만큼...</td>\n",
       "      <td>[제발, 장바구니, 추가, 삭제, 로딩, 롯데, 롯데, 쇼핑, 진짜]</td>\n",
       "    </tr>\n",
       "  </tbody>\n",
       "</table>\n",
       "</div>"
      ],
      "text/plain": [
       "         date                                            comment  ratings  \\\n",
       "0  2020-10-05  개발자분들이 실력이 없으면 그냥 다른곳에 넘겨주고 어플 새로 만들어라 몇개월이 지나...        1   \n",
       "1  2020-10-05                퍼스트먼데이가 적용되는거 안되는거가 섞여있어 쓰기가 어렵네요..        3   \n",
       "2  2020-10-05                   지나느롯데닷컴에 비해 5배정도 느려서ㅜ쇼핑하기가 싫어집니다        1   \n",
       "3  2020-10-05  롯데프레시에서 생일쿠폰이 왔다고 해서 로그인해서 보니 보내준 쿠폰의 마이페이지 항목...        2   \n",
       "4  2020-10-05  제발.. 장바구니 추가와 삭제시.. 빨리되게 해주세요. 로딩이 넘넘 오래걸려요.. ...        1   \n",
       "\n",
       "   helpful                                            ko_text  \\\n",
       "0        0  개발자분들이 실력이 없으면 그냥 다른곳에 넘겨주고 어플 새로 만들어라 몇개월이 지나...   \n",
       "1        0                  퍼스트먼데이가 적용되는거 안되는거가 섞여있어 쓰기가 어렵네요   \n",
       "2        0                     지나느롯데닷컴에 비해 배정도 느려서쇼핑하기가 싫어집니다   \n",
       "3        0  롯데프레시에서 생일쿠폰이 왔다고 해서 로그인해서 보니 보내준 쿠폰의 마이페이지 항목...   \n",
       "4        0  제발 장바구니 추가와 삭제시 빨리되게 해주세요 로딩이 넘넘 오래걸려요 롯데닷컴때만큼...   \n",
       "\n",
       "                                               nouns  \n",
       "0                  [개발자, 실력, 그냥, 어플, 몇개, 접속, 속도, 개선]  \n",
       "1                                 [퍼스트, 먼데이, 적용, 쓰기]  \n",
       "2                                       [롯데, 배정, 쇼핑]  \n",
       "3  [롯데, 프레, 생일, 쿠폰, 로그인, 쿠폰, 마이, 페이지, 항목, 보이지, 롯데...  \n",
       "4             [제발, 장바구니, 추가, 삭제, 로딩, 롯데, 롯데, 쇼핑, 진짜]  "
      ]
     },
     "execution_count": 14,
     "metadata": {},
     "output_type": "execute_result"
    }
   ],
   "source": [
    "df['nouns'] = df['ko_text'].apply(lambda x: get_nouns(x))\n",
    "print(df.shape)\n",
    "df.head()"
   ]
  },
  {
   "cell_type": "code",
   "execution_count": 15,
   "metadata": {
    "executionInfo": {
     "elapsed": 567,
     "status": "ok",
     "timestamp": 1601795474716,
     "user": {
      "displayName": "전병용",
      "photoUrl": "",
      "userId": "10639278602930142408"
     },
     "user_tz": -540
    },
    "id": "NnjMqGfVcQs8"
   },
   "outputs": [],
   "source": [
    "df.reset_index(drop= True, inplace= True)"
   ]
  },
  {
   "cell_type": "code",
   "execution_count": 16,
   "metadata": {
    "colab": {
     "base_uri": "https://localhost:8080/",
     "height": 195
    },
    "executionInfo": {
     "elapsed": 697,
     "status": "ok",
     "timestamp": 1601795728498,
     "user": {
      "displayName": "전병용",
      "photoUrl": "",
      "userId": "10639278602930142408"
     },
     "user_tz": -540
    },
    "id": "WUbx-ysyaOI4",
    "outputId": "95a019f7-c3cf-409d-f26f-25f6d7e053c3"
   },
   "outputs": [
    {
     "data": {
      "text/html": [
       "<div>\n",
       "<style scoped>\n",
       "    .dataframe tbody tr th:only-of-type {\n",
       "        vertical-align: middle;\n",
       "    }\n",
       "\n",
       "    .dataframe tbody tr th {\n",
       "        vertical-align: top;\n",
       "    }\n",
       "\n",
       "    .dataframe thead th {\n",
       "        text-align: right;\n",
       "    }\n",
       "</style>\n",
       "<table border=\"1\" class=\"dataframe\">\n",
       "  <thead>\n",
       "    <tr style=\"text-align: right;\">\n",
       "      <th></th>\n",
       "      <th>words</th>\n",
       "      <th>satisfaction</th>\n",
       "      <th>count</th>\n",
       "    </tr>\n",
       "  </thead>\n",
       "  <tbody>\n",
       "    <tr>\n",
       "      <th>0</th>\n",
       "      <td>개발자</td>\n",
       "      <td>1</td>\n",
       "      <td>1</td>\n",
       "    </tr>\n",
       "    <tr>\n",
       "      <th>1</th>\n",
       "      <td>실력</td>\n",
       "      <td>1</td>\n",
       "      <td>1</td>\n",
       "    </tr>\n",
       "    <tr>\n",
       "      <th>2</th>\n",
       "      <td>그냥</td>\n",
       "      <td>1</td>\n",
       "      <td>1</td>\n",
       "    </tr>\n",
       "    <tr>\n",
       "      <th>3</th>\n",
       "      <td>어플</td>\n",
       "      <td>1</td>\n",
       "      <td>1</td>\n",
       "    </tr>\n",
       "    <tr>\n",
       "      <th>4</th>\n",
       "      <td>몇개</td>\n",
       "      <td>1</td>\n",
       "      <td>1</td>\n",
       "    </tr>\n",
       "  </tbody>\n",
       "</table>\n",
       "</div>"
      ],
      "text/plain": [
       "  words  satisfaction  count\n",
       "0   개발자             1      1\n",
       "1    실력             1      1\n",
       "2    그냥             1      1\n",
       "3    어플             1      1\n",
       "4    몇개             1      1"
      ]
     },
     "execution_count": 16,
     "metadata": {},
     "output_type": "execute_result"
    }
   ],
   "source": [
    "all_words = []\n",
    "satisfaction= []\n",
    "for i in range(len(df)):\n",
    "    words = df['nouns'][i]\n",
    "    words_arr = []\n",
    "    for n in words:\n",
    "        words_arr.append(n)\n",
    "        satisfaction.append(df['ratings'].iloc[i])\n",
    "    all_words.extend(words_arr)\n",
    "    \n",
    "all_words_df = pd.DataFrame({\"words\":all_words, \"satisfaction\":satisfaction, \"count\":len(all_words)*[1]})\n",
    "all_words_df.head()        \n",
    "    "
   ]
  },
  {
   "cell_type": "code",
   "execution_count": 17,
   "metadata": {
    "colab": {
     "base_uri": "https://localhost:8080/",
     "height": 225
    },
    "executionInfo": {
     "elapsed": 759,
     "status": "ok",
     "timestamp": 1601795495119,
     "user": {
      "displayName": "전병용",
      "photoUrl": "",
      "userId": "10639278602930142408"
     },
     "user_tz": -540
    },
    "id": "RWT-9Z8Hc47r",
    "outputId": "c90481f9-ecc9-48e8-e07e-ff2dde3c6ef2"
   },
   "outputs": [
    {
     "data": {
      "text/html": [
       "<div>\n",
       "<style scoped>\n",
       "    .dataframe tbody tr th:only-of-type {\n",
       "        vertical-align: middle;\n",
       "    }\n",
       "\n",
       "    .dataframe tbody tr th {\n",
       "        vertical-align: top;\n",
       "    }\n",
       "\n",
       "    .dataframe thead th {\n",
       "        text-align: right;\n",
       "    }\n",
       "</style>\n",
       "<table border=\"1\" class=\"dataframe\">\n",
       "  <thead>\n",
       "    <tr style=\"text-align: right;\">\n",
       "      <th></th>\n",
       "      <th>count</th>\n",
       "    </tr>\n",
       "    <tr>\n",
       "      <th>words</th>\n",
       "      <th></th>\n",
       "    </tr>\n",
       "  </thead>\n",
       "  <tbody>\n",
       "    <tr>\n",
       "      <th>롯데</th>\n",
       "      <td>2349</td>\n",
       "    </tr>\n",
       "    <tr>\n",
       "      <th>상품</th>\n",
       "      <td>1209</td>\n",
       "    </tr>\n",
       "    <tr>\n",
       "      <th>쇼핑</th>\n",
       "      <td>1117</td>\n",
       "    </tr>\n",
       "    <tr>\n",
       "      <th>검색</th>\n",
       "      <td>875</td>\n",
       "    </tr>\n",
       "    <tr>\n",
       "      <th>사용</th>\n",
       "      <td>694</td>\n",
       "    </tr>\n",
       "  </tbody>\n",
       "</table>\n",
       "</div>"
      ],
      "text/plain": [
       "       count\n",
       "words       \n",
       "롯데      2349\n",
       "상품      1209\n",
       "쇼핑      1117\n",
       "검색       875\n",
       "사용       694"
      ]
     },
     "execution_count": 17,
     "metadata": {},
     "output_type": "execute_result"
    }
   ],
   "source": [
    "all_words_df = pd.DataFrame({'words':all_words, 'count':len(all_words)*[1]})\n",
    "all_words_df = all_words_df.groupby('words').sum()\n",
    "all_words_df.sort_values('count',ascending=False).head()"
   ]
  },
  {
   "cell_type": "code",
   "execution_count": 18,
   "metadata": {
    "colab": {
     "base_uri": "https://localhost:8080/",
     "height": 195
    },
    "executionInfo": {
     "elapsed": 675,
     "status": "ok",
     "timestamp": 1601795748338,
     "user": {
      "displayName": "전병용",
      "photoUrl": "",
      "userId": "10639278602930142408"
     },
     "user_tz": -540
    },
    "id": "NThs6LGvdzBB",
    "outputId": "bcb77bb9-24b6-4f1b-efc6-7f7c60285206"
   },
   "outputs": [
    {
     "data": {
      "text/html": [
       "<div>\n",
       "<style scoped>\n",
       "    .dataframe tbody tr th:only-of-type {\n",
       "        vertical-align: middle;\n",
       "    }\n",
       "\n",
       "    .dataframe tbody tr th {\n",
       "        vertical-align: top;\n",
       "    }\n",
       "\n",
       "    .dataframe thead th {\n",
       "        text-align: right;\n",
       "    }\n",
       "</style>\n",
       "<table border=\"1\" class=\"dataframe\">\n",
       "  <thead>\n",
       "    <tr style=\"text-align: right;\">\n",
       "      <th></th>\n",
       "      <th>words</th>\n",
       "      <th>satisfaction</th>\n",
       "      <th>count</th>\n",
       "    </tr>\n",
       "  </thead>\n",
       "  <tbody>\n",
       "    <tr>\n",
       "      <th>0</th>\n",
       "      <td>개발자</td>\n",
       "      <td>1</td>\n",
       "      <td>1</td>\n",
       "    </tr>\n",
       "    <tr>\n",
       "      <th>1</th>\n",
       "      <td>실력</td>\n",
       "      <td>1</td>\n",
       "      <td>1</td>\n",
       "    </tr>\n",
       "    <tr>\n",
       "      <th>2</th>\n",
       "      <td>그냥</td>\n",
       "      <td>1</td>\n",
       "      <td>1</td>\n",
       "    </tr>\n",
       "    <tr>\n",
       "      <th>3</th>\n",
       "      <td>어플</td>\n",
       "      <td>1</td>\n",
       "      <td>1</td>\n",
       "    </tr>\n",
       "    <tr>\n",
       "      <th>4</th>\n",
       "      <td>몇개</td>\n",
       "      <td>1</td>\n",
       "      <td>1</td>\n",
       "    </tr>\n",
       "  </tbody>\n",
       "</table>\n",
       "</div>"
      ],
      "text/plain": [
       "  words  satisfaction  count\n",
       "0   개발자             1      1\n",
       "1    실력             1      1\n",
       "2    그냥             1      1\n",
       "3    어플             1      1\n",
       "4    몇개             1      1"
      ]
     },
     "execution_count": 18,
     "metadata": {},
     "output_type": "execute_result"
    }
   ],
   "source": [
    "all_words = []\n",
    "satisfaction= []\n",
    "for i in range(len(df)):\n",
    "    words = df['nouns'][i]\n",
    "    words_arr = []\n",
    "    for n in words:\n",
    "        words_arr.append(n)\n",
    "        satisfaction.append(df['ratings'].iloc[i])\n",
    "    all_words.extend(words_arr)\n",
    "    \n",
    "all_words_df = pd.DataFrame({\"words\":all_words, \"satisfaction\":satisfaction, \"count\":len(all_words)*[1]})\n",
    "all_words_df.head()        \n",
    "    "
   ]
  },
  {
   "cell_type": "code",
   "execution_count": 19,
   "metadata": {
    "colab": {
     "base_uri": "https://localhost:8080/",
     "height": 431
    },
    "executionInfo": {
     "elapsed": 604,
     "status": "ok",
     "timestamp": 1601795816187,
     "user": {
      "displayName": "전병용",
      "photoUrl": "",
      "userId": "10639278602930142408"
     },
     "user_tz": -540
    },
    "id": "eyOZyvlMdA8j",
    "outputId": "f782900f-3c0e-4f23-f695-096afbeefbfa"
   },
   "outputs": [
    {
     "data": {
      "text/html": [
       "<div>\n",
       "<style scoped>\n",
       "    .dataframe tbody tr th:only-of-type {\n",
       "        vertical-align: middle;\n",
       "    }\n",
       "\n",
       "    .dataframe tbody tr th {\n",
       "        vertical-align: top;\n",
       "    }\n",
       "\n",
       "    .dataframe thead th {\n",
       "        text-align: right;\n",
       "    }\n",
       "</style>\n",
       "<table border=\"1\" class=\"dataframe\">\n",
       "  <thead>\n",
       "    <tr style=\"text-align: right;\">\n",
       "      <th></th>\n",
       "      <th>satisfaction</th>\n",
       "      <th>count</th>\n",
       "    </tr>\n",
       "    <tr>\n",
       "      <th>words</th>\n",
       "      <th></th>\n",
       "      <th></th>\n",
       "    </tr>\n",
       "  </thead>\n",
       "  <tbody>\n",
       "    <tr>\n",
       "      <th>롯데</th>\n",
       "      <td>2.597701</td>\n",
       "      <td>2349</td>\n",
       "    </tr>\n",
       "    <tr>\n",
       "      <th>상품</th>\n",
       "      <td>3.161290</td>\n",
       "      <td>1209</td>\n",
       "    </tr>\n",
       "    <tr>\n",
       "      <th>쇼핑</th>\n",
       "      <td>3.690242</td>\n",
       "      <td>1117</td>\n",
       "    </tr>\n",
       "    <tr>\n",
       "      <th>검색</th>\n",
       "      <td>1.827429</td>\n",
       "      <td>875</td>\n",
       "    </tr>\n",
       "    <tr>\n",
       "      <th>사용</th>\n",
       "      <td>3.018732</td>\n",
       "      <td>694</td>\n",
       "    </tr>\n",
       "    <tr>\n",
       "      <th>...</th>\n",
       "      <td>...</td>\n",
       "      <td>...</td>\n",
       "    </tr>\n",
       "    <tr>\n",
       "      <th>서문</th>\n",
       "      <td>1.000000</td>\n",
       "      <td>1</td>\n",
       "    </tr>\n",
       "    <tr>\n",
       "      <th>서민</th>\n",
       "      <td>5.000000</td>\n",
       "      <td>1</td>\n",
       "    </tr>\n",
       "    <tr>\n",
       "      <th>서번</th>\n",
       "      <td>5.000000</td>\n",
       "      <td>1</td>\n",
       "    </tr>\n",
       "    <tr>\n",
       "      <th>서브</th>\n",
       "      <td>5.000000</td>\n",
       "      <td>1</td>\n",
       "    </tr>\n",
       "    <tr>\n",
       "      <th>힐것</th>\n",
       "      <td>1.000000</td>\n",
       "      <td>1</td>\n",
       "    </tr>\n",
       "  </tbody>\n",
       "</table>\n",
       "<p>4767 rows × 2 columns</p>\n",
       "</div>"
      ],
      "text/plain": [
       "       satisfaction  count\n",
       "words                     \n",
       "롯데         2.597701   2349\n",
       "상품         3.161290   1209\n",
       "쇼핑         3.690242   1117\n",
       "검색         1.827429    875\n",
       "사용         3.018732    694\n",
       "...             ...    ...\n",
       "서문         1.000000      1\n",
       "서민         5.000000      1\n",
       "서번         5.000000      1\n",
       "서브         5.000000      1\n",
       "힐것         1.000000      1\n",
       "\n",
       "[4767 rows x 2 columns]"
      ]
     },
     "execution_count": 19,
     "metadata": {},
     "output_type": "execute_result"
    }
   ],
   "source": [
    "words_satisfaction = all_words_df.groupby('words').mean()['satisfaction']\n",
    "words_count = all_words_df.groupby('words').sum()['count']\n",
    "words_df = pd.concat([words_satisfaction, words_count], axis=1)\n",
    "words_df.sort_values('count',ascending=False)"
   ]
  },
  {
   "cell_type": "code",
   "execution_count": 20,
   "metadata": {
    "colab": {
     "base_uri": "https://localhost:8080/",
     "height": 570
    },
    "executionInfo": {
     "elapsed": 644,
     "status": "ok",
     "timestamp": 1601795882714,
     "user": {
      "displayName": "전병용",
      "photoUrl": "",
      "userId": "10639278602930142408"
     },
     "user_tz": -540
    },
    "id": "KbAw0p7keXiS",
    "outputId": "bb1dff23-a18c-444f-b6e4-c068a9fb0cf3"
   },
   "outputs": [
    {
     "data": {
      "text/html": [
       "<div>\n",
       "<style scoped>\n",
       "    .dataframe tbody tr th:only-of-type {\n",
       "        vertical-align: middle;\n",
       "    }\n",
       "\n",
       "    .dataframe tbody tr th {\n",
       "        vertical-align: top;\n",
       "    }\n",
       "\n",
       "    .dataframe thead th {\n",
       "        text-align: right;\n",
       "    }\n",
       "</style>\n",
       "<table border=\"1\" class=\"dataframe\">\n",
       "  <thead>\n",
       "    <tr style=\"text-align: right;\">\n",
       "      <th></th>\n",
       "      <th>date</th>\n",
       "      <th>comment</th>\n",
       "      <th>ratings</th>\n",
       "      <th>helpful</th>\n",
       "      <th>ko_text</th>\n",
       "      <th>nouns</th>\n",
       "    </tr>\n",
       "  </thead>\n",
       "  <tbody>\n",
       "    <tr>\n",
       "      <th>0</th>\n",
       "      <td>2020-10-05</td>\n",
       "      <td>개발자분들이 실력이 없으면 그냥 다른곳에 넘겨주고 어플 새로 만들어라 몇개월이 지나...</td>\n",
       "      <td>1</td>\n",
       "      <td>0</td>\n",
       "      <td>개발자분들이 실력이 없으면 그냥 다른곳에 넘겨주고 어플 새로 만들어라 몇개월이 지나...</td>\n",
       "      <td>[개발자, 실력, 그냥, 어플, 몇개, 접속, 속도, 개선]</td>\n",
       "    </tr>\n",
       "    <tr>\n",
       "      <th>1</th>\n",
       "      <td>2020-10-05</td>\n",
       "      <td>퍼스트먼데이가 적용되는거 안되는거가 섞여있어 쓰기가 어렵네요..</td>\n",
       "      <td>3</td>\n",
       "      <td>0</td>\n",
       "      <td>퍼스트먼데이가 적용되는거 안되는거가 섞여있어 쓰기가 어렵네요</td>\n",
       "      <td>[퍼스트, 먼데이, 적용, 쓰기]</td>\n",
       "    </tr>\n",
       "    <tr>\n",
       "      <th>2</th>\n",
       "      <td>2020-10-05</td>\n",
       "      <td>지나느롯데닷컴에 비해 5배정도 느려서ㅜ쇼핑하기가 싫어집니다</td>\n",
       "      <td>1</td>\n",
       "      <td>0</td>\n",
       "      <td>지나느롯데닷컴에 비해 배정도 느려서쇼핑하기가 싫어집니다</td>\n",
       "      <td>[롯데, 배정, 쇼핑]</td>\n",
       "    </tr>\n",
       "    <tr>\n",
       "      <th>3</th>\n",
       "      <td>2020-10-05</td>\n",
       "      <td>롯데프레시에서 생일쿠폰이 왔다고 해서 로그인해서 보니 보내준 쿠폰의 마이페이지 항목...</td>\n",
       "      <td>2</td>\n",
       "      <td>0</td>\n",
       "      <td>롯데프레시에서 생일쿠폰이 왔다고 해서 로그인해서 보니 보내준 쿠폰의 마이페이지 항목...</td>\n",
       "      <td>[롯데, 프레, 생일, 쿠폰, 로그인, 쿠폰, 마이, 페이지, 항목, 보이지, 롯데...</td>\n",
       "    </tr>\n",
       "    <tr>\n",
       "      <th>4</th>\n",
       "      <td>2020-10-05</td>\n",
       "      <td>제발.. 장바구니 추가와 삭제시.. 빨리되게 해주세요. 로딩이 넘넘 오래걸려요.. ...</td>\n",
       "      <td>1</td>\n",
       "      <td>0</td>\n",
       "      <td>제발 장바구니 추가와 삭제시 빨리되게 해주세요 로딩이 넘넘 오래걸려요 롯데닷컴때만큼...</td>\n",
       "      <td>[제발, 장바구니, 추가, 삭제, 로딩, 롯데, 롯데, 쇼핑, 진짜]</td>\n",
       "    </tr>\n",
       "    <tr>\n",
       "      <th>...</th>\n",
       "      <td>...</td>\n",
       "      <td>...</td>\n",
       "      <td>...</td>\n",
       "      <td>...</td>\n",
       "      <td>...</td>\n",
       "      <td>...</td>\n",
       "    </tr>\n",
       "    <tr>\n",
       "      <th>7144</th>\n",
       "      <td>2013-05-29</td>\n",
       "      <td>쇼핑하기 정말 편해졌어요~~^^</td>\n",
       "      <td>5</td>\n",
       "      <td>0</td>\n",
       "      <td>쇼핑하기 정말 편해졌어요</td>\n",
       "      <td>[쇼핑, 정말]</td>\n",
       "    </tr>\n",
       "    <tr>\n",
       "      <th>7145</th>\n",
       "      <td>2013-05-29</td>\n",
       "      <td>오류도잘안나고행사도자주하고넘맘에들어요~지름신이 더욱더 심해지긴해도 ㅎㅎㅎ 도움 많이되요!</td>\n",
       "      <td>4</td>\n",
       "      <td>0</td>\n",
       "      <td>오류도잘안나고행사도자주하고넘맘에들어요지름신이 더욱더 심해지긴해도  도움 많이되요</td>\n",
       "      <td>[오류, 행사, 자주, 지름신, 해도, 도움]</td>\n",
       "    </tr>\n",
       "    <tr>\n",
       "      <th>7146</th>\n",
       "      <td>2013-05-29</td>\n",
       "      <td>여러모바일쇼핑몰앱설치해놓고써봤는데 단연 으뜸이네요 보기쉬운구성과 가장큰혜택, 솔직한...</td>\n",
       "      <td>5</td>\n",
       "      <td>1</td>\n",
       "      <td>여러모바일쇼핑몰앱설치해놓고써봤는데 단연 으뜸이네요 보기쉬운구성과 가장큰혜택 솔직한상...</td>\n",
       "      <td>[모바일, 쇼핑몰, 설치, 단연, 으뜸, 보기, 성과, 가장, 혜택, 상픔평, 물건...</td>\n",
       "    </tr>\n",
       "    <tr>\n",
       "      <th>7147</th>\n",
       "      <td>2013-05-29</td>\n",
       "      <td>일일이 웹사이트에 들어가 구매할 칠요없이 빠르고 간편하게 내가 원하는 롯데닷컴 상품...</td>\n",
       "      <td>5</td>\n",
       "      <td>0</td>\n",
       "      <td>일일이 웹사이트에 들어가 구매할 칠요없이 빠르고 간편하게 내가 원하는 롯데닷컴 상품...</td>\n",
       "      <td>[일일이, 웹사이트, 구매, 롯데, 상품]</td>\n",
       "    </tr>\n",
       "    <tr>\n",
       "      <th>7148</th>\n",
       "      <td>2013-05-29</td>\n",
       "      <td>사용하기가 매우 편해요</td>\n",
       "      <td>5</td>\n",
       "      <td>0</td>\n",
       "      <td>사용하기가 매우 편해요</td>\n",
       "      <td>[사용, 매우]</td>\n",
       "    </tr>\n",
       "  </tbody>\n",
       "</table>\n",
       "<p>7149 rows × 6 columns</p>\n",
       "</div>"
      ],
      "text/plain": [
       "            date                                            comment  ratings  \\\n",
       "0     2020-10-05  개발자분들이 실력이 없으면 그냥 다른곳에 넘겨주고 어플 새로 만들어라 몇개월이 지나...        1   \n",
       "1     2020-10-05                퍼스트먼데이가 적용되는거 안되는거가 섞여있어 쓰기가 어렵네요..        3   \n",
       "2     2020-10-05                   지나느롯데닷컴에 비해 5배정도 느려서ㅜ쇼핑하기가 싫어집니다        1   \n",
       "3     2020-10-05  롯데프레시에서 생일쿠폰이 왔다고 해서 로그인해서 보니 보내준 쿠폰의 마이페이지 항목...        2   \n",
       "4     2020-10-05  제발.. 장바구니 추가와 삭제시.. 빨리되게 해주세요. 로딩이 넘넘 오래걸려요.. ...        1   \n",
       "...          ...                                                ...      ...   \n",
       "7144  2013-05-29                                  쇼핑하기 정말 편해졌어요~~^^        5   \n",
       "7145  2013-05-29  오류도잘안나고행사도자주하고넘맘에들어요~지름신이 더욱더 심해지긴해도 ㅎㅎㅎ 도움 많이되요!        4   \n",
       "7146  2013-05-29  여러모바일쇼핑몰앱설치해놓고써봤는데 단연 으뜸이네요 보기쉬운구성과 가장큰혜택, 솔직한...        5   \n",
       "7147  2013-05-29  일일이 웹사이트에 들어가 구매할 칠요없이 빠르고 간편하게 내가 원하는 롯데닷컴 상품...        5   \n",
       "7148  2013-05-29                                       사용하기가 매우 편해요        5   \n",
       "\n",
       "      helpful                                            ko_text  \\\n",
       "0           0  개발자분들이 실력이 없으면 그냥 다른곳에 넘겨주고 어플 새로 만들어라 몇개월이 지나...   \n",
       "1           0                  퍼스트먼데이가 적용되는거 안되는거가 섞여있어 쓰기가 어렵네요   \n",
       "2           0                     지나느롯데닷컴에 비해 배정도 느려서쇼핑하기가 싫어집니다   \n",
       "3           0  롯데프레시에서 생일쿠폰이 왔다고 해서 로그인해서 보니 보내준 쿠폰의 마이페이지 항목...   \n",
       "4           0  제발 장바구니 추가와 삭제시 빨리되게 해주세요 로딩이 넘넘 오래걸려요 롯데닷컴때만큼...   \n",
       "...       ...                                                ...   \n",
       "7144        0                                      쇼핑하기 정말 편해졌어요   \n",
       "7145        0       오류도잘안나고행사도자주하고넘맘에들어요지름신이 더욱더 심해지긴해도  도움 많이되요   \n",
       "7146        1  여러모바일쇼핑몰앱설치해놓고써봤는데 단연 으뜸이네요 보기쉬운구성과 가장큰혜택 솔직한상...   \n",
       "7147        0  일일이 웹사이트에 들어가 구매할 칠요없이 빠르고 간편하게 내가 원하는 롯데닷컴 상품...   \n",
       "7148        0                                       사용하기가 매우 편해요   \n",
       "\n",
       "                                                  nouns  \n",
       "0                     [개발자, 실력, 그냥, 어플, 몇개, 접속, 속도, 개선]  \n",
       "1                                    [퍼스트, 먼데이, 적용, 쓰기]  \n",
       "2                                          [롯데, 배정, 쇼핑]  \n",
       "3     [롯데, 프레, 생일, 쿠폰, 로그인, 쿠폰, 마이, 페이지, 항목, 보이지, 롯데...  \n",
       "4                [제발, 장바구니, 추가, 삭제, 로딩, 롯데, 롯데, 쇼핑, 진짜]  \n",
       "...                                                 ...  \n",
       "7144                                           [쇼핑, 정말]  \n",
       "7145                          [오류, 행사, 자주, 지름신, 해도, 도움]  \n",
       "7146  [모바일, 쇼핑몰, 설치, 단연, 으뜸, 보기, 성과, 가장, 혜택, 상픔평, 물건...  \n",
       "7147                            [일일이, 웹사이트, 구매, 롯데, 상품]  \n",
       "7148                                           [사용, 매우]  \n",
       "\n",
       "[7149 rows x 6 columns]"
      ]
     },
     "execution_count": 20,
     "metadata": {},
     "output_type": "execute_result"
    }
   ],
   "source": [
    "df"
   ]
  },
  {
   "cell_type": "code",
   "execution_count": 21,
   "metadata": {
    "executionInfo": {
     "elapsed": 11434,
     "status": "ok",
     "timestamp": 1601796025827,
     "user": {
      "displayName": "전병용",
      "photoUrl": "",
      "userId": "10639278602930142408"
     },
     "user_tz": -540
    },
    "id": "BQ9SG1_ne1Qk"
   },
   "outputs": [],
   "source": [
    "stopwords = \"./korean_stopwords.txt\"\n",
    "nouns_tagger =Okt()\n",
    "def text_cleaning(text):\n",
    "  hangul = re.compile('[^ ㄱ-ㅣ가-힣]')\n",
    "  result = hangul.sub('', text)\n",
    "  tagger = Okt()\n",
    "  nouns = nouns_tagger.nouns(result)\n",
    "  nouns = [x for x in nouns if len(x) >1]\n",
    "  nouns =[x for x in nouns if x not in stopwords]\n",
    "  return nouns\n",
    "\n",
    "vect = CountVectorizer(tokenizer= lambda x : text_cleaning(x))\n",
    "bow_vect = vect.fit_transform(df['comment'].tolist())\n",
    "word_list = vect.get_feature_names()\n",
    "count_list = bow_vect.toarray().sum(axis=0)"
   ]
  },
  {
   "cell_type": "code",
   "execution_count": 22,
   "metadata": {
    "colab": {
     "base_uri": "https://localhost:8080/",
     "height": 34
    },
    "executionInfo": {
     "elapsed": 611,
     "status": "ok",
     "timestamp": 1601796027176,
     "user": {
      "displayName": "전병용",
      "photoUrl": "",
      "userId": "10639278602930142408"
     },
     "user_tz": -540
    },
    "id": "ndythLc_e6bY",
    "outputId": "6de22098-22dd-484f-873d-e1d6098e8ec5"
   },
   "outputs": [
    {
     "data": {
      "text/plain": [
       "(7149, 4850)"
      ]
     },
     "execution_count": 22,
     "metadata": {},
     "output_type": "execute_result"
    }
   ],
   "source": [
    "bow_vect.shape"
   ]
  },
  {
   "cell_type": "code",
   "execution_count": 23,
   "metadata": {
    "colab": {
     "base_uri": "https://localhost:8080/",
     "height": 34
    },
    "executionInfo": {
     "elapsed": 679,
     "status": "ok",
     "timestamp": 1601796157665,
     "user": {
      "displayName": "전병용",
      "photoUrl": "",
      "userId": "10639278602930142408"
     },
     "user_tz": -540
    },
    "id": "TDVOsSqffarZ",
    "outputId": "64d873f6-aba2-42a4-f848-f44463a0b4e6"
   },
   "outputs": [
    {
     "name": "stdout",
     "output_type": "stream",
     "text": [
      "{'가가': 2, '가각': 1, '가게': 6, '가격': 260, '가공': 1, '가관': 1, '가구': 2, '가기': 61, '가까스로': 1, '가까이': 5, '가끔\n"
     ]
    }
   ],
   "source": [
    "word_count_dict = dict(zip(word_list, count_list))\n",
    "print(str(word_count_dict)[:100])"
   ]
  },
  {
   "cell_type": "code",
   "execution_count": 24,
   "metadata": {
    "colab": {
     "base_uri": "https://localhost:8080/",
     "height": 34
    },
    "executionInfo": {
     "elapsed": 662,
     "status": "ok",
     "timestamp": 1601796187940,
     "user": {
      "displayName": "전병용",
      "photoUrl": "",
      "userId": "10639278602930142408"
     },
     "user_tz": -540
    },
    "id": "ntisrQFtfd6D",
    "outputId": "6be6e9d8-37df-4b38-ed38-2d6c25223ffe"
   },
   "outputs": [
    {
     "name": "stdout",
     "output_type": "stream",
     "text": [
      "  (0, 3659)\t0.2954759735997292\n",
      "  (0, 2784)\t0.2352466960736217\n",
      "  (0, 2473)\t0.5316432590673439\n",
      "  (0, 2273)\t0.3066844949636399\n",
      "  (0, 1446)\t0.430238018272001\n",
      "  (0, 488)\t0.29346324825260933\n",
      "  (0, 137)\t0.28098404662955345\n",
      "  (0, 129)\t0.3612139833214887\n"
     ]
    }
   ],
   "source": [
    "tfidf_vectorizer = TfidfTransformer()\n",
    "tf_idf_vect = tfidf_vectorizer.fit_transform(bow_vect)\n",
    "print(tf_idf_vect[0])"
   ]
  },
  {
   "cell_type": "code",
   "execution_count": 25,
   "metadata": {
    "colab": {
     "base_uri": "https://localhost:8080/",
     "height": 34
    },
    "executionInfo": {
     "elapsed": 653,
     "status": "ok",
     "timestamp": 1601796198799,
     "user": {
      "displayName": "전병용",
      "photoUrl": "",
      "userId": "10639278602930142408"
     },
     "user_tz": -540
    },
    "id": "E0si9BqIfkv4",
    "outputId": "231ae082-33c0-4d79-be93-19163328a8bf"
   },
   "outputs": [
    {
     "name": "stdout",
     "output_type": "stream",
     "text": [
      "{129: '개발자', 2473: '실력', 488: '그냥', 2784: '어플', 1446: '몇개', 3659: '접속', 2273: '속도', 137: '개선', 4413:\n"
     ]
    }
   ],
   "source": [
    "invert_index_vectorizer = {v:k for k,v in vect.vocabulary_.items()}\n",
    "print(str(invert_index_vectorizer)[:100])"
   ]
  },
  {
   "cell_type": "code",
   "execution_count": 26,
   "metadata": {
    "colab": {
     "base_uri": "https://localhost:8080/",
     "height": 282
    },
    "executionInfo": {
     "elapsed": 640,
     "status": "ok",
     "timestamp": 1601796214835,
     "user": {
      "displayName": "전병용",
      "photoUrl": "",
      "userId": "10639278602930142408"
     },
     "user_tz": -540
    },
    "id": "9KKt8IDdfouZ",
    "outputId": "56359fdb-d214-453c-e51b-5ed2da8f8dff"
   },
   "outputs": [
    {
     "data": {
      "text/plain": [
       "<AxesSubplot:>"
      ]
     },
     "execution_count": 26,
     "metadata": {},
     "output_type": "execute_result"
    },
    {
     "data": {
      "image/png": "[encoded data removed]",
      "text/plain": [
       "<Figure size 432x288 with 1 Axes>"
      ]
     },
     "metadata": {
      "needs_background": "light"
     },
     "output_type": "display_data"
    }
   ],
   "source": [
    "df.ratings.hist()"
   ]
  },
  {
   "cell_type": "code",
   "execution_count": 27,
   "metadata": {
    "executionInfo": {
     "elapsed": 605,
     "status": "ok",
     "timestamp": 1601795878196,
     "user": {
      "displayName": "전병용",
      "photoUrl": "",
      "userId": "10639278602930142408"
     },
     "user_tz": -540
    },
    "id": "KGMrsY1zeWZl"
   },
   "outputs": [],
   "source": [
    "def rating_to_label(rating) :\n",
    "  if rating >3:\n",
    "    return 1\n",
    "  else:\n",
    "    return 0\n",
    "df['y'] = df['ratings'].apply(lambda x : rating_to_label(x))"
   ]
  },
  {
   "cell_type": "code",
   "execution_count": 28,
   "metadata": {
    "colab": {
     "base_uri": "https://localhost:8080/",
     "height": 67
    },
    "executionInfo": {
     "elapsed": 654,
     "status": "ok",
     "timestamp": 1601795904105,
     "user": {
      "displayName": "전병용",
      "photoUrl": "",
      "userId": "10639278602930142408"
     },
     "user_tz": -540
    },
    "id": "kouxXTltec0N",
    "outputId": "435499bb-4808-49b1-e88b-6abca345f5b2"
   },
   "outputs": [
    {
     "data": {
      "text/plain": [
       "0    4026\n",
       "1    3123\n",
       "Name: y, dtype: int64"
      ]
     },
     "execution_count": 28,
     "metadata": {},
     "output_type": "execute_result"
    }
   ],
   "source": [
    "df.y.value_counts()"
   ]
  },
  {
   "cell_type": "code",
   "execution_count": 29,
   "metadata": {
    "executionInfo": {
     "elapsed": 734,
     "status": "ok",
     "timestamp": 1601796289852,
     "user": {
      "displayName": "전병용",
      "photoUrl": "",
      "userId": "10639278602930142408"
     },
     "user_tz": -540
    },
    "id": "osvXxNHoehuO"
   },
   "outputs": [],
   "source": [
    "y= df['y']\n",
    "x_train,x_test, y_train, y_test = train_test_split(tf_idf_vect, y, test_size = 0.3)"
   ]
  },
  {
   "cell_type": "code",
   "execution_count": 30,
   "metadata": {
    "colab": {
     "base_uri": "https://localhost:8080/",
     "height": 34
    },
    "executionInfo": {
     "elapsed": 675,
     "status": "ok",
     "timestamp": 1601796293416,
     "user": {
      "displayName": "전병용",
      "photoUrl": "",
      "userId": "10639278602930142408"
     },
     "user_tz": -540
    },
    "id": "pHc2-rVfejdU",
    "outputId": "05c84fb6-dbd3-4e51-8977-26cdb0e1bcee"
   },
   "outputs": [
    {
     "name": "stdout",
     "output_type": "stream",
     "text": [
      "(2145, 4850)\n"
     ]
    }
   ],
   "source": [
    "print(x_test.shape)"
   ]
  },
  {
   "cell_type": "code",
   "execution_count": 31,
   "metadata": {
    "executionInfo": {
     "elapsed": 633,
     "status": "ok",
     "timestamp": 1601796318540,
     "user": {
      "displayName": "전병용",
      "photoUrl": "",
      "userId": "10639278602930142408"
     },
     "user_tz": -540
    },
    "id": "GKwVHZYlgB-N"
   },
   "outputs": [],
   "source": [
    "lr = LogisticRegression(random_state=0)\n",
    "lr.fit(x_train, y_train)\n",
    "y_pred = lr.predict(x_test)"
   ]
  },
  {
   "cell_type": "code",
   "execution_count": 48,
   "metadata": {
    "colab": {
     "base_uri": "https://localhost:8080/",
     "height": 84
    },
    "executionInfo": {
     "elapsed": 612,
     "status": "ok",
     "timestamp": 1601796371799,
     "user": {
      "displayName": "전병용",
      "photoUrl": "",
      "userId": "10639278602930142408"
     },
     "user_tz": -540
    },
    "id": "wOrqEus_gDvK",
    "outputId": "df1e80b4-815f-4712-bc6b-81df6e687459"
   },
   "outputs": [
    {
     "name": "stdout",
     "output_type": "stream",
     "text": [
      "accuracy_score 0.8563432835820896\n",
      "precision_score 0.8178807947019867\n",
      "recall_score 0.9182156133828996\n",
      "f1_score 0.8651488616462347\n"
     ]
    }
   ],
   "source": [
    "print('accuracy_score',accuracy_score(y_test,y_pred))\n",
    "print('precision_score', precision_score(y_test,y_pred))\n",
    "print('recall_score', recall_score(y_test,y_pred))\n",
    "print('f1_score',f1_score(y_test,y_pred))"
   ]
  },
  {
   "cell_type": "code",
   "execution_count": 49,
   "metadata": {
    "colab": {
     "base_uri": "https://localhost:8080/",
     "height": 50
    },
    "executionInfo": {
     "elapsed": 618,
     "status": "ok",
     "timestamp": 1601796386716,
     "user": {
      "displayName": "전병용",
      "photoUrl": "",
      "userId": "10639278602930142408"
     },
     "user_tz": -540
    },
    "id": "pYES_tNVgSr8",
    "outputId": "5d37a1e8-e541-47be-aee4-83bcae996095"
   },
   "outputs": [
    {
     "name": "stdout",
     "output_type": "stream",
     "text": [
      "confmat\n",
      "[[212  55]\n",
      " [ 22 247]]\n"
     ]
    }
   ],
   "source": [
    "confmat = confusion_matrix(y_test,y_pred)\n",
    "print('confmat')\n",
    "print(confmat)"
   ]
  },
  {
   "cell_type": "code",
   "execution_count": 34,
   "metadata": {
    "executionInfo": {
     "elapsed": 628,
     "status": "ok",
     "timestamp": 1601796426866,
     "user": {
      "displayName": "전병용",
      "photoUrl": "",
      "userId": "10639278602930142408"
     },
     "user_tz": -540
    },
    "id": "BFwPDz2sgXY0"
   },
   "outputs": [],
   "source": [
    "positive_random_idx = df[df['y']==1].sample(892, random_state=33).index.tolist()\n",
    "negative_random_idx = df[df['y']==0].sample(892,random_state=33).index.tolist()"
   ]
  },
  {
   "cell_type": "code",
   "execution_count": 35,
   "metadata": {
    "executionInfo": {
     "elapsed": 618,
     "status": "ok",
     "timestamp": 1601796434566,
     "user": {
      "displayName": "전병용",
      "photoUrl": "",
      "userId": "10639278602930142408"
     },
     "user_tz": -540
    },
    "id": "H6x3Jr3ogeVu"
   },
   "outputs": [],
   "source": [
    "random_idx = positive_random_idx+negative_random_idx\n",
    "\n",
    "x=tf_idf_vect[random_idx]\n",
    "y=df['y'][random_idx]\n",
    "x_train, x_test, y_train, y_test = train_test_split(x,y,test_size=0.3)"
   ]
  },
  {
   "cell_type": "code",
   "execution_count": 36,
   "metadata": {},
   "outputs": [
    {
     "data": {
      "text/plain": [
       "<7149x4850 sparse matrix of type '<class 'numpy.float64'>'\n",
       "\twith 48083 stored elements in Compressed Sparse Row format>"
      ]
     },
     "execution_count": 36,
     "metadata": {},
     "output_type": "execute_result"
    }
   ],
   "source": [
    "tf_idf_vect"
   ]
  },
  {
   "cell_type": "code",
   "execution_count": 37,
   "metadata": {
    "colab": {
     "base_uri": "https://localhost:8080/",
     "height": 50
    },
    "executionInfo": {
     "elapsed": 590,
     "status": "ok",
     "timestamp": 1601796448858,
     "user": {
      "displayName": "전병용",
      "photoUrl": "",
      "userId": "10639278602930142408"
     },
     "user_tz": -540
    },
    "id": "qfcDp9uOgfQO",
    "outputId": "b76a1760-dcf0-473e-a10c-cc24e15b8b27"
   },
   "outputs": [
    {
     "name": "stdout",
     "output_type": "stream",
     "text": [
      "(1248, 4850)\n",
      "(536, 4850)\n"
     ]
    }
   ],
   "source": [
    "print(x_train.shape)\n",
    "print(x_test.shape)"
   ]
  },
  {
   "cell_type": "code",
   "execution_count": 38,
   "metadata": {
    "executionInfo": {
     "elapsed": 619,
     "status": "ok",
     "timestamp": 1601796458988,
     "user": {
      "displayName": "전병용",
      "photoUrl": "",
      "userId": "10639278602930142408"
     },
     "user_tz": -540
    },
    "id": "RmRtNmwbgkUM"
   },
   "outputs": [],
   "source": [
    "lr= LogisticRegression(random_state =0)\n",
    "lr.fit(x_train, y_train)\n",
    "\n",
    "y_pred = lr.predict(x_test)"
   ]
  },
  {
   "cell_type": "code",
   "execution_count": 39,
   "metadata": {
    "colab": {
     "base_uri": "https://localhost:8080/",
     "height": 84
    },
    "executionInfo": {
     "elapsed": 624,
     "status": "ok",
     "timestamp": 1601796465471,
     "user": {
      "displayName": "전병용",
      "photoUrl": "",
      "userId": "10639278602930142408"
     },
     "user_tz": -540
    },
    "id": "T0E_saJygl7x",
    "outputId": "72693189-c3c9-4d8f-9d17-c7b299854d7c"
   },
   "outputs": [
    {
     "name": "stdout",
     "output_type": "stream",
     "text": [
      "0.8563432835820896\n",
      "0.8178807947019867\n",
      "0.9182156133828996\n",
      "0.8651488616462347\n"
     ]
    }
   ],
   "source": [
    "print(accuracy_score(y_test,y_pred))\n",
    "print(precision_score(y_test,y_pred))\n",
    "print(recall_score(y_test,y_pred))\n",
    "print(f1_score(y_test,y_pred))"
   ]
  },
  {
   "cell_type": "code",
   "execution_count": 40,
   "metadata": {
    "colab": {
     "base_uri": "https://localhost:8080/",
     "height": 50
    },
    "executionInfo": {
     "elapsed": 622,
     "status": "ok",
     "timestamp": 1601796486920,
     "user": {
      "displayName": "전병용",
      "photoUrl": "",
      "userId": "10639278602930142408"
     },
     "user_tz": -540
    },
    "id": "VwM8r89XgrIl",
    "outputId": "6e342430-3eb7-4911-8f72-8f74a9fd57c0"
   },
   "outputs": [
    {
     "name": "stdout",
     "output_type": "stream",
     "text": [
      "[[212  55]\n",
      " [ 22 247]]\n"
     ]
    }
   ],
   "source": [
    "confmat=confusion_matrix(y_test, y_pred)\n",
    "print(confmat)"
   ]
  },
  {
   "cell_type": "code",
   "execution_count": 41,
   "metadata": {
    "colab": {
     "base_uri": "https://localhost:8080/",
     "height": 502
    },
    "executionInfo": {
     "elapsed": 4158,
     "status": "ok",
     "timestamp": 1601796501976,
     "user": {
      "displayName": "전병용",
      "photoUrl": "",
      "userId": "10639278602930142408"
     },
     "user_tz": -540
    },
    "id": "kc2zLuMsgt-g",
    "outputId": "5c4e9b47-6be1-4e8d-c1e5-009f9df70f82"
   },
   "outputs": [
    {
     "data": {
      "text/plain": [
       "<BarContainer object of 4850 artists>"
      ]
     },
     "execution_count": 41,
     "metadata": {},
     "output_type": "execute_result"
    },
    {
     "data": {
      "image/png": "[encoded data removed]",
      "text/plain": [
       "<Figure size 720x576 with 1 Axes>"
      ]
     },
     "metadata": {
      "needs_background": "light"
     },
     "output_type": "display_data"
    }
   ],
   "source": [
    "plt.rcParams['figure.figsize'] = [10,8]\n",
    "plt.bar(range(len(lr.coef_[0])), lr.coef_[0])"
   ]
  },
  {
   "cell_type": "code",
   "execution_count": 42,
   "metadata": {
    "colab": {
     "base_uri": "https://localhost:8080/",
     "height": 50
    },
    "executionInfo": {
     "elapsed": 623,
     "status": "ok",
     "timestamp": 1601796510351,
     "user": {
      "displayName": "전병용",
      "photoUrl": "",
      "userId": "10639278602930142408"
     },
     "user_tz": -540
    },
    "id": "4207rQuFgw3o",
    "outputId": "6ceb2f97-49dd-4372-f1ba-fe6638fa0e48"
   },
   "outputs": [
    {
     "name": "stdout",
     "output_type": "stream",
     "text": [
      "[(2.802817680041575, 1462), (2.1142197760238806, 4619), (1.8844105747780957, 3286), (1.6593153317437537, 4098), (1.450762140918298, 1703)]\n",
      "[(-1.9546208669926552, 818), (-1.9720260549046678, 2810), (-2.087141418974612, 4110), (-2.139344587634473, 3543), (-2.2839041424073967, 2961)]\n"
     ]
    }
   ],
   "source": [
    "print(sorted(((value, index) for index, value in enumerate(lr.coef_[0])), reverse=True)[:5])\n",
    "print(sorted(((value, index) for index, value in enumerate(lr.coef_[0])), reverse=True)[-5:])\n"
   ]
  },
  {
   "cell_type": "code",
   "execution_count": 43,
   "metadata": {
    "executionInfo": {
     "elapsed": 748,
     "status": "ok",
     "timestamp": 1601796519656,
     "user": {
      "displayName": "전병용",
      "photoUrl": "",
      "userId": "10639278602930142408"
     },
     "user_tz": -540
    },
    "id": "bkFjq-5YgzEQ"
   },
   "outputs": [],
   "source": [
    "coef_pos_index = sorted(((value, index ) for index, value in enumerate(lr.coef_[0])), reverse=True)\n",
    "coef_neg_index = sorted(((value,index) for index, value in enumerate(lr.coef_[0])), reverse= False)"
   ]
  },
  {
   "cell_type": "code",
   "execution_count": 44,
   "metadata": {
    "colab": {
     "base_uri": "https://localhost:8080/",
     "height": 353
    },
    "executionInfo": {
     "elapsed": 639,
     "status": "ok",
     "timestamp": 1601796558822,
     "user": {
      "displayName": "전병용",
      "photoUrl": "",
      "userId": "10639278602930142408"
     },
     "user_tz": -540
    },
    "id": "WRxbfn8Xg0yZ",
    "outputId": "4a038bf5-ce8b-4607-e828-267f9429592d"
   },
   "outputs": [
    {
     "name": "stdout",
     "output_type": "stream",
     "text": [
      "모바일 2.802817680041575\n",
      "할인 2.1142197760238806\n",
      "이벤트 1.8844105747780957\n",
      "최고 1.6593153317437537\n",
      "백화점 1.450762140918298\n",
      "가끔 1.419190440744343\n",
      "구매 1.3685927561389728\n",
      "컴퓨터 1.306771896899035\n",
      "쿠폰 1.2491165552639396\n",
      "보기 1.2312429404970624\n",
      "구입 1.2022912033563298\n",
      "혜택 1.1778526196760901\n",
      "항상 1.175014115961069\n",
      "기능 1.1524979048788564\n",
      "애용 1.151270560329853\n",
      "자주 1.1052184945245178\n",
      "제품 1.0174067568434502\n",
      "살수 0.9853026549155226\n",
      "조금 0.9399805982279169\n",
      "만족 0.911542918551925\n"
     ]
    }
   ],
   "source": [
    "for coef in coef_pos_index[:20]:\n",
    "  print(invert_index_vectorizer[coef[1]], coef[0])"
   ]
  },
  {
   "cell_type": "code",
   "execution_count": 45,
   "metadata": {
    "colab": {
     "base_uri": "https://localhost:8080/",
     "height": 353
    },
    "executionInfo": {
     "elapsed": 612,
     "status": "ok",
     "timestamp": 1601796552586,
     "user": {
      "displayName": "전병용",
      "photoUrl": "",
      "userId": "10639278602930142408"
     },
     "user_tz": -540
    },
    "id": "jys9ol4Ug3gy",
    "outputId": "959203e5-d62d-4582-b391-e098d019e337"
   },
   "outputs": [
    {
     "name": "stdout",
     "output_type": "stream",
     "text": [
      "오류 -2.2839041424073967\n",
      "장바구니 -2.139344587634473\n",
      "최악 -2.087141418974612\n",
      "업데이트 -1.9720260549046678\n",
      "다시 -1.9546208669926552\n",
      "계속 -1.9463515200502477\n",
      "실행 -1.8523240540638393\n",
      "로그인 -1.8461541552809657\n",
      "등급 -1.7482383666415684\n",
      "에러 -1.676847365110042\n",
      "삭제 -1.6741916039796556\n",
      "검색 -1.6732421806673572\n",
      "자꾸 -1.5254529384262354\n",
      "먹통 -1.433567382337208\n",
      "화면 -1.425718442221131\n",
      "그냥 -1.418997557165261\n",
      "예전 -1.3672388058560865\n",
      "설치 -1.3637745612838823\n",
      "로딩 -1.2775389777296402\n",
      "하나 -1.2428231094337467\n"
     ]
    }
   ],
   "source": [
    "for coef in coef_neg_index[:20]:\n",
    "  print(invert_index_vectorizer[coef[1]], coef[0])"
   ]
  },
  {
   "cell_type": "code",
   "execution_count": null,
   "metadata": {},
   "outputs": [],
   "source": []
  }
 ],
 "metadata": {
  "colab": {
   "authorship_tag": "ABX9TyPA7iG1IBafxuZoRHwTN4Q5",
   "mount_file_id": "16r5_eRsuyvl-CpkTMke2IyMxs8slARqG",
   "name": "ssg감정분석.ipynb",
   "provenance": []
  },
  "kernelspec": {
   "display_name": "Python 3",
   "language": "python",
   "name": "python3"
  },
  "language_info": {
   "codemirror_mode": {
    "name": "ipython",
    "version": 3
   },
   "file_extension": ".py",
   "mimetype": "text/x-python",
   "name": "python",
   "nbconvert_exporter": "python",
   "pygments_lexer": "ipython3",
   "version": "3.6.10"
  }
 },
 "nbformat": 4,
 "nbformat_minor": 1
}
