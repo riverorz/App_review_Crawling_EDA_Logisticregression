{
 "cells": [
  {
   "cell_type": "code",
   "execution_count": null,
   "metadata": {
    "colab": {
     "base_uri": "https://localhost:8080/",
     "height": 326
    },
    "executionInfo": {
     "elapsed": 3111,
     "status": "ok",
     "timestamp": 1601793971583,
     "user": {
      "displayName": "전병용",
      "photoUrl": "",
      "userId": "10639278602930142408"
     },
     "user_tz": -540
    },
    "id": "nOfSmTOYRe6w",
    "outputId": "e43f112c-7eab-4d60-fcdc-b4e4e6c398e0"
   },
   "outputs": [],
   "source": [
    "#pip install konlpy"
   ]
  },
  {
   "cell_type": "code",
   "execution_count": null,
   "metadata": {
    "colab": {
     "base_uri": "https://localhost:8080/",
     "height": 51
    },
    "executionInfo": {
     "elapsed": 1669,
     "status": "ok",
     "timestamp": 1601793971587,
     "user": {
      "displayName": "전병용",
      "photoUrl": "",
      "userId": "10639278602930142408"
     },
     "user_tz": -540
    },
    "id": "Mud7OfGPRX07",
    "outputId": "3aaa31ca-78dd-4b8d-f018-f9582b0b8af6"
   },
   "outputs": [],
   "source": [
    "from datetime import datetime\n",
    "import pandas as pd\n",
    "import matplotlib.pyplot as plt\n",
    "%matplotlib inline\n",
    "import numpy as np\n",
    "from konlpy.tag import Twitter\n",
    "twt = Twitter()\n",
    "#from hanspell import spell_checker\n",
    "import re\n",
    "from konlpy.tag import Okt\n",
    "from collections import Counter\n",
    "from sklearn.feature_extraction.text import CountVectorizer\n",
    "from konlpy.tag import Okt\n",
    "from collections import Counter\n",
    "from sklearn.feature_extraction.text import TfidfTransformer\n",
    "from sklearn.model_selection import train_test_split\n",
    "from sklearn.linear_model import LogisticRegression\n",
    "from sklearn.metrics import accuracy_score, precision_score, recall_score, f1_score\n",
    "from sklearn.metrics import confusion_matrix"
   ]
  },
  {
   "cell_type": "markdown",
   "metadata": {},
   "source": [
    "# 데이터 불러오기"
   ]
  },
  {
   "cell_type": "code",
   "execution_count": null,
   "metadata": {
    "colab": {
     "base_uri": "https://localhost:8080/",
     "height": 195
    },
    "executionInfo": {
     "elapsed": 615,
     "status": "ok",
     "timestamp": 1601794409346,
     "user": {
      "displayName": "전병용",
      "photoUrl": "",
      "userId": "10639278602930142408"
     },
     "user_tz": -540
    },
    "id": "PCPRL2A1SOzh",
    "outputId": "5a5fcea9-87a1-4dfe-8c0f-82e135abb2d1"
   },
   "outputs": [],
   "source": [
    "df = pd.read_csv('./result/2020-10-03_20-36-11.csv')\n",
    "df['date']  = pd.to_datetime(df['date'], format = \"%Y-%m-%d\").replace(\"-\",\"\")\n",
    "df.head()"
   ]
  },
  {
   "cell_type": "code",
   "execution_count": null,
   "metadata": {
    "scrolled": true
   },
   "outputs": [],
   "source": [
    "df.info()"
   ]
  },
  {
   "cell_type": "code",
   "execution_count": null,
   "metadata": {},
   "outputs": [],
   "source": [
    "df.describe()\n",
    "# 평균 3점이며 1댓글당 14정도 도움이 된다고 했지만 편차가 심하기 때문에 조사를 진행"
   ]
  },
  {
   "cell_type": "code",
   "execution_count": null,
   "metadata": {},
   "outputs": [],
   "source": [
    "df"
   ]
  },
  {
   "cell_type": "code",
   "execution_count": null,
   "metadata": {},
   "outputs": [],
   "source": [
    "변화도 = df[['date', 'ratings','helpful']]\n",
    "변화도 = df.groupby(['date']).agg({'ratings': 'count' , 'helpful':'sum'})\n",
    "변화도 = 변화도.reset_index()\n",
    "변화도.set_index('date',inplace = True)\n",
    "변화도"
   ]
  },
  {
   "cell_type": "code",
   "execution_count": null,
   "metadata": {},
   "outputs": [],
   "source": [
    "변화도.resample('M').sum().plot()"
   ]
  },
  {
   "cell_type": "code",
   "execution_count": null,
   "metadata": {},
   "outputs": [],
   "source": [
    "변화도.info()"
   ]
  },
  {
   "cell_type": "code",
   "execution_count": null,
   "metadata": {},
   "outputs": [],
   "source": [
    "df.sort_values(by='helpful',ascending=False).head(20)"
   ]
  },
  {
   "cell_type": "code",
   "execution_count": null,
   "metadata": {},
   "outputs": [],
   "source": [
    "변화도"
   ]
  },
  {
   "cell_type": "code",
   "execution_count": null,
   "metadata": {},
   "outputs": [],
   "source": [
    "변화도['helpful'].sort_values(ascending= False).head(10)"
   ]
  },
  {
   "cell_type": "code",
   "execution_count": null,
   "metadata": {},
   "outputs": [],
   "source": [
    "변화도.resample('M').sum().describe()"
   ]
  },
  {
   "cell_type": "markdown",
   "metadata": {},
   "source": [
    "# 댓글수는 월 22개정도이지만 도움이 된다는 수는 지속적으로 상승하고있다\n",
    "\n",
    "# helpful 은 공감이 되는 글인걸 확인 할 수 있다."
   ]
  },
  {
   "cell_type": "markdown",
   "metadata": {},
   "source": [
    "### 필요한 컬럼 및 결측치 제거"
   ]
  },
  {
   "cell_type": "code",
   "execution_count": null,
   "metadata": {
    "colab": {
     "base_uri": "https://localhost:8080/",
     "height": 101
    },
    "executionInfo": {
     "elapsed": 643,
     "status": "ok",
     "timestamp": 1601794410391,
     "user": {
      "displayName": "전병용",
      "photoUrl": "",
      "userId": "10639278602930142408"
     },
     "user_tz": -540
    },
    "id": "NoDYriP3Sbas",
    "outputId": "c7c456b1-9ee5-404c-9271-a5c7e2830572",
    "scrolled": true
   },
   "outputs": [],
   "source": [
    "df = df[['date','comment','ratings','helpful']]\n",
    "df = df.dropna()\n",
    "df.isnull().sum()"
   ]
  },
  {
   "cell_type": "code",
   "execution_count": null,
   "metadata": {},
   "outputs": [],
   "source": [
    "def text_cleaning(text):\n",
    "    hangul = re.compile('[|ㄱ-ㅎ|ㅏ-ㅣ]+') # 한글의 정규표현식을 나타냅니다.\n",
    "    result = hangul.sub('', text)\n",
    "    hangul = re.compile('[^ ㄱ-ㅣ가-힣]+') # 한글의 정규표현식을 나타냅니다.\n",
    "    result = hangul.sub('', text)\n",
    "    return result"
   ]
  },
  {
   "cell_type": "code",
   "execution_count": null,
   "metadata": {
    "colab": {
     "base_uri": "https://localhost:8080/",
     "height": 279
    },
    "executionInfo": {
     "elapsed": 685,
     "status": "ok",
     "timestamp": 1601794542963,
     "user": {
      "displayName": "전병용",
      "photoUrl": "",
      "userId": "10639278602930142408"
     },
     "user_tz": -540
    },
    "id": "OWldj4wNZHka",
    "outputId": "4aa4f630-3c17-4288-ee87-6c77eeeadd83"
   },
   "outputs": [],
   "source": [
    "df['ko_text'] = df['comment'].apply(lambda x: text_cleaning(x))\n",
    "df.head()"
   ]
  },
  {
   "cell_type": "code",
   "execution_count": null,
   "metadata": {
    "executionInfo": {
     "elapsed": 859,
     "status": "ok",
     "timestamp": 1601794633345,
     "user": {
      "displayName": "전병용",
      "photoUrl": "",
      "userId": "10639278602930142408"
     },
     "user_tz": -540
    },
    "id": "CI0EJqyxZcYm"
   },
   "outputs": [],
   "source": [
    "# 한국어 약식 불용어사전 예시 파일입니다. 출처 - (https://www.ranks.nl/stopwords/korean)\n",
    "korean_stopwords_path = \"./korean_stopwords.txt\"\n",
    "with open(korean_stopwords_path, encoding='utf8') as f:\n",
    "    stopwords = f.readlines()\n",
    "stopwords = [x.strip() for x in stopwords]\n",
    "\n",
    "def get_nouns(x):\n",
    "    nouns_tagger = Okt()\n",
    "    nouns = nouns_tagger.nouns(x)\n",
    "    \n",
    "    # 한글자 키워드를 제거합니다.\n",
    "    nouns = [noun for noun in nouns if len(noun) > 1]\n",
    "    \n",
    "    # 불용어를 제거합니다.\n",
    "    nouns = [noun for noun in nouns if noun not in stopwords]\n",
    "    \n",
    "    return nouns"
   ]
  },
  {
   "cell_type": "code",
   "execution_count": null,
   "metadata": {
    "colab": {
     "base_uri": "https://localhost:8080/",
     "height": 296
    },
    "executionInfo": {
     "elapsed": 19795,
     "status": "ok",
     "timestamp": 1601794663590,
     "user": {
      "displayName": "전병용",
      "photoUrl": "",
      "userId": "10639278602930142408"
     },
     "user_tz": -540
    },
    "id": "SSHLe25HZpN4",
    "outputId": "88e52a68-614a-46e2-d7ef-ddccdf8ef138",
    "scrolled": false
   },
   "outputs": [],
   "source": [
    "df['nouns'] = df['ko_text'].apply(lambda x: get_nouns(x))\n",
    "print(df.shape)\n",
    "df.head()"
   ]
  },
  {
   "cell_type": "code",
   "execution_count": null,
   "metadata": {
    "scrolled": true
   },
   "outputs": [],
   "source": [
    "df.info()"
   ]
  },
  {
   "cell_type": "code",
   "execution_count": null,
   "metadata": {},
   "outputs": [],
   "source": [
    "df2014 = df.query(\"date >= '2014-01-01' and date <='2014-12-31'\")\n",
    "df2015= df.query(\"date >= '2015-01-01' and date <='2015-12-31'\")\n",
    "df2016= df.query(\"date >= '2016-01-01' and date <='2016-12-31'\")\n",
    "df2017= df.query(\"date >= '2017-01-01' and date <='2017-12-31'\")\n",
    "df2018= df.query(\"date >= '2018-01-01' and date <='2018-12-31'\")\n",
    "df2019= df.query(\"date >= '2019-01-01' and date <='2019-12-31'\")\n",
    "df2020= df.query(\"date >= '2020-01-01' and date <='2020-12-31'\")\n",
    "df2014.reset_index(drop= True, inplace= True)\n",
    "df2015.reset_index(drop= True, inplace= True)\n",
    "df2016.reset_index(drop= True, inplace= True)\n",
    "df2017.reset_index(drop= True, inplace= True)\n",
    "df2018.reset_index(drop= True, inplace= True)\n",
    "df2019.reset_index(drop= True, inplace= True)\n",
    "df2020.reset_index(drop= True, inplace= True)\n"
   ]
  },
  {
   "cell_type": "code",
   "execution_count": null,
   "metadata": {
    "colab": {
     "base_uri": "https://localhost:8080/",
     "height": 195
    },
    "executionInfo": {
     "elapsed": 697,
     "status": "ok",
     "timestamp": 1601795728498,
     "user": {
      "displayName": "전병용",
      "photoUrl": "",
      "userId": "10639278602930142408"
     },
     "user_tz": -540
    },
    "id": "WUbx-ysyaOI4",
    "outputId": "95a019f7-c3cf-409d-f26f-25f6d7e053c3",
    "scrolled": true
   },
   "outputs": [],
   "source": [
    "#all_words_df2014~2020로 변수 저장\n",
    "c = 2014\n",
    "for i in [df2014,df2015,df2016,df2017,df2018,df2019,df2020]:\n",
    "    \n",
    "    all_words = []\n",
    "    satisfaction= []\n",
    "    for j in range(len(i)):\n",
    "        words = i['nouns'][j]\n",
    "        words_arr = []\n",
    "        for n in words:\n",
    "            words_arr.append(n)\n",
    "            satisfaction.append(i['ratings'].iloc[j])\n",
    "        all_words.extend(words_arr)\n",
    "       \n",
    "    globals()['all_words_df{}'.format(c) ]= pd.DataFrame({\"words\":all_words, \"satisfaction\":satisfaction, \"count\":len(all_words)*[1]})\n",
    "    \n",
    "    c = c+ 1 \n"
   ]
  },
  {
   "cell_type": "code",
   "execution_count": null,
   "metadata": {},
   "outputs": [],
   "source": [
    "all_words_df2014"
   ]
  },
  {
   "cell_type": "code",
   "execution_count": null,
   "metadata": {
    "colab": {
     "base_uri": "https://localhost:8080/",
     "height": 431
    },
    "executionInfo": {
     "elapsed": 604,
     "status": "ok",
     "timestamp": 1601795816187,
     "user": {
      "displayName": "전병용",
      "photoUrl": "",
      "userId": "10639278602930142408"
     },
     "user_tz": -540
    },
    "id": "eyOZyvlMdA8j",
    "outputId": "f782900f-3c0e-4f23-f695-096afbeefbfa"
   },
   "outputs": [],
   "source": [
    "words_satisfaction = all_words_df2014.groupby('words').mean()['satisfaction']\n",
    "words_count = all_words_df2014.groupby('words').sum()['count']\n",
    "words_df = pd.concat([words_satisfaction, words_count], axis=1)\n",
    "words_df.sort_values('count',ascending=False)"
   ]
  },
  {
   "cell_type": "code",
   "execution_count": null,
   "metadata": {},
   "outputs": [],
   "source": [
    "words_satisfaction = all_words_df2015.groupby('words').mean()['satisfaction']\n",
    "words_count = all_words_df2015.groupby('words').sum()['count']\n",
    "words_df = pd.concat([words_satisfaction, words_count], axis=1)\n",
    "words_df.sort_values('count',ascending=False)"
   ]
  },
  {
   "cell_type": "code",
   "execution_count": null,
   "metadata": {},
   "outputs": [],
   "source": [
    "words_satisfaction = all_words_df2016.groupby('words').mean()['satisfaction']\n",
    "words_count = all_words_df2016.groupby('words').sum()['count']\n",
    "words_df = pd.concat([words_satisfaction, words_count], axis=1)\n",
    "words_df.sort_values('count',ascending=False)"
   ]
  },
  {
   "cell_type": "code",
   "execution_count": null,
   "metadata": {},
   "outputs": [],
   "source": [
    "words_satisfaction = all_words_df2017.groupby('words').mean()['satisfaction']\n",
    "words_count = all_words_df2017.groupby('words').sum()['count']\n",
    "words_df = pd.concat([words_satisfaction, words_count], axis=1)\n",
    "words_df.sort_values('count',ascending=False)"
   ]
  },
  {
   "cell_type": "code",
   "execution_count": null,
   "metadata": {},
   "outputs": [],
   "source": [
    "words_satisfaction = all_words_df2018.groupby('words').mean()['satisfaction']\n",
    "words_count = all_words_df2018.groupby('words').sum()['count']\n",
    "words_df = pd.concat([words_satisfaction, words_count], axis=1)\n",
    "words_df.sort_values('count',ascending=False)"
   ]
  },
  {
   "cell_type": "code",
   "execution_count": null,
   "metadata": {},
   "outputs": [],
   "source": [
    "words_satisfaction = all_words_df2019.groupby('words').mean()['satisfaction']\n",
    "words_count = all_words_df2019.groupby('words').sum()['count']\n",
    "words_df = pd.concat([words_satisfaction, words_count], axis=1)\n",
    "words_df.sort_values('count',ascending=False)"
   ]
  },
  {
   "cell_type": "code",
   "execution_count": null,
   "metadata": {},
   "outputs": [],
   "source": [
    "words_satisfaction = all_words_df2020.groupby('words').mean()['satisfaction']\n",
    "words_count = all_words_df2020.groupby('words').sum()['count']\n",
    "words_df = pd.concat([words_satisfaction, words_count], axis=1)\n",
    "words_df.sort_values('count',ascending=False)"
   ]
  },
  {
   "cell_type": "code",
   "execution_count": null,
   "metadata": {
    "executionInfo": {
     "elapsed": 11434,
     "status": "ok",
     "timestamp": 1601796025827,
     "user": {
      "displayName": "전병용",
      "photoUrl": "",
      "userId": "10639278602930142408"
     },
     "user_tz": -540
    },
    "id": "BQ9SG1_ne1Qk"
   },
   "outputs": [],
   "source": [
    "stopwords = \"./korean_stopwords.txt\"\n",
    "nouns_tagger =Okt()\n",
    "def text_cleaning(text):\n",
    "  hangul = re.compile('[^ ㄱ-ㅣ가-힣]')\n",
    "  result = hangul.sub('', text)\n",
    "  tagger = Okt()\n",
    "  nouns = nouns_tagger.nouns(result)\n",
    "  nouns = [x for x in nouns if len(x) >1]\n",
    "  nouns =[x for x in nouns if x not in stopwords]\n",
    "  return nouns\n",
    "\n",
    "vect = CountVectorizer(tokenizer= lambda x : text_cleaning(x))\n",
    "bow_vect = vect.fit_transform(df['comment'].tolist())\n",
    "word_list = vect.get_feature_names()\n",
    "count_list = bow_vect.toarray().sum(axis=0)"
   ]
  },
  {
   "cell_type": "code",
   "execution_count": null,
   "metadata": {},
   "outputs": [],
   "source": [
    "vect14 = CountVectorizer(tokenizer= lambda x : text_cleaning(x))\n",
    "bow_vect2014 = vect14.fit_transform(df2014['comment'].tolist())\n",
    "word_list2014 = vect14.get_feature_names()\n",
    "count_list2014 = bow_vect2014.toarray().sum(axis=0)"
   ]
  },
  {
   "cell_type": "code",
   "execution_count": null,
   "metadata": {},
   "outputs": [],
   "source": [
    "vect15 = CountVectorizer(tokenizer= lambda x : text_cleaning(x))\n",
    "bow_vect2015 = vect15.fit_transform(df2015['comment'].tolist())\n",
    "word_list2015 = vect15.get_feature_names()\n",
    "count_list2015 = bow_vect2015.toarray().sum(axis=0)"
   ]
  },
  {
   "cell_type": "code",
   "execution_count": null,
   "metadata": {},
   "outputs": [],
   "source": [
    "vect16 = CountVectorizer(tokenizer= lambda x : text_cleaning(x))\n",
    "\n",
    "bow_vect2016 = vect16.fit_transform(df2016['comment'].tolist())\n",
    "word_list2016 = vect16.get_feature_names()\n",
    "count_list2016 = bow_vect2016.toarray().sum(axis=0)"
   ]
  },
  {
   "cell_type": "code",
   "execution_count": null,
   "metadata": {},
   "outputs": [],
   "source": [
    "vect17 = CountVectorizer(tokenizer= lambda x : text_cleaning(x))\n",
    "\n",
    "bow_vect2017 = vect17.fit_transform(df2017['comment'].tolist())\n",
    "word_list2017 = vect17.get_feature_names()\n",
    "count_list2017 = bow_vect2017.toarray().sum(axis=0)"
   ]
  },
  {
   "cell_type": "code",
   "execution_count": null,
   "metadata": {},
   "outputs": [],
   "source": [
    "vect18 = CountVectorizer(tokenizer= lambda x : text_cleaning(x))\n",
    "\n",
    "bow_vect2018 = vect18.fit_transform(df2018['comment'].tolist())\n",
    "word_list2018 = vect18.get_feature_names()\n",
    "count_list2018 = bow_vect2018.toarray().sum(axis=0)"
   ]
  },
  {
   "cell_type": "code",
   "execution_count": null,
   "metadata": {},
   "outputs": [],
   "source": [
    "vect19 = CountVectorizer(tokenizer= lambda x : text_cleaning(x))\n",
    "\n",
    "bow_vect2019 = vect19.fit_transform(df2019['comment'].tolist())\n",
    "word_list2019 = vect19.get_feature_names()\n",
    "count_list2019 = bow_vect2019.toarray().sum(axis=0)"
   ]
  },
  {
   "cell_type": "code",
   "execution_count": null,
   "metadata": {},
   "outputs": [],
   "source": [
    "vect20 = CountVectorizer(tokenizer= lambda x : text_cleaning(x))\n",
    "\n",
    "bow_vect2020 = vect20.fit_transform(df2020['comment'].tolist())\n",
    "word_list2020 = vect20.get_feature_names()\n",
    "count_list2020 = bow_vect.toarray().sum(axis=0)"
   ]
  },
  {
   "cell_type": "code",
   "execution_count": null,
   "metadata": {
    "colab": {
     "base_uri": "https://localhost:8080/",
     "height": 34
    },
    "executionInfo": {
     "elapsed": 611,
     "status": "ok",
     "timestamp": 1601796027176,
     "user": {
      "displayName": "전병용",
      "photoUrl": "",
      "userId": "10639278602930142408"
     },
     "user_tz": -540
    },
    "id": "ndythLc_e6bY",
    "outputId": "6de22098-22dd-484f-873d-e1d6098e8ec5"
   },
   "outputs": [],
   "source": [
    "print('2014',bow_vect2014.shape)\n",
    "print('2015',bow_vect2015.shape)\n",
    "print('2016',bow_vect2016.shape)\n",
    "print('2017',bow_vect2017.shape)\n",
    "print('2018',bow_vect2018.shape)\n",
    "print('2019',bow_vect2019.shape)\n",
    "print('2020',bow_vect2020.shape)"
   ]
  },
  {
   "cell_type": "code",
   "execution_count": null,
   "metadata": {
    "colab": {
     "base_uri": "https://localhost:8080/",
     "height": 34
    },
    "executionInfo": {
     "elapsed": 679,
     "status": "ok",
     "timestamp": 1601796157665,
     "user": {
      "displayName": "전병용",
      "photoUrl": "",
      "userId": "10639278602930142408"
     },
     "user_tz": -540
    },
    "id": "TDVOsSqffarZ",
    "outputId": "64d873f6-aba2-42a4-f848-f44463a0b4e6",
    "scrolled": false
   },
   "outputs": [],
   "source": [
    "for i in range(0,7):\n",
    "    wl = [word_list2014,word_list2015,word_list2016,word_list2017,word_list2018,word_list2019,word_list2020]\n",
    "    cl = [count_list2014,count_list2015,count_list2016,count_list2017,count_list2018,count_list2019,count_list2020]\n",
    "    word_count_dict = dict(zip(wl[i], cl[i]))\n",
    "    print(i,str(word_count_dict)[:100])"
   ]
  },
  {
   "cell_type": "code",
   "execution_count": null,
   "metadata": {
    "colab": {
     "base_uri": "https://localhost:8080/",
     "height": 34
    },
    "executionInfo": {
     "elapsed": 662,
     "status": "ok",
     "timestamp": 1601796187940,
     "user": {
      "displayName": "전병용",
      "photoUrl": "",
      "userId": "10639278602930142408"
     },
     "user_tz": -540
    },
    "id": "ntisrQFtfd6D",
    "outputId": "6be6e9d8-37df-4b38-ed38-2d6c25223ffe"
   },
   "outputs": [],
   "source": [
    "tfidf_vectorizer = TfidfTransformer()\n",
    "s=2014\n",
    "for i in [bow_vect2014,bow_vect2015,bow_vect2016,bow_vect2017,bow_vect2018,bow_vect2019,bow_vect2020]:\n",
    "    \n",
    "    globals()[f'tf_idf_vect{s}'] = tfidf_vectorizer.fit_transform(i)\n",
    "    s=s+ 1"
   ]
  },
  {
   "cell_type": "code",
   "execution_count": null,
   "metadata": {
    "scrolled": true
   },
   "outputs": [],
   "source": [
    "print(2014,tf_idf_vect2014[0])\n",
    "print(2015,tf_idf_vect2015[0])\n",
    "print(2016,tf_idf_vect2016[0])\n",
    "print(2017,tf_idf_vect2017[0])\n",
    "print(2018,tf_idf_vect2018[0])\n",
    "print(2019,tf_idf_vect2019[0])\n",
    "print(2020,tf_idf_vect2020[0])\n"
   ]
  },
  {
   "cell_type": "code",
   "execution_count": null,
   "metadata": {
    "colab": {
     "base_uri": "https://localhost:8080/",
     "height": 34
    },
    "executionInfo": {
     "elapsed": 653,
     "status": "ok",
     "timestamp": 1601796198799,
     "user": {
      "displayName": "전병용",
      "photoUrl": "",
      "userId": "10639278602930142408"
     },
     "user_tz": -540
    },
    "id": "E0si9BqIfkv4",
    "outputId": "231ae082-33c0-4d79-be93-19163328a8bf",
    "scrolled": true
   },
   "outputs": [],
   "source": [
    "invert_index_vectorizer = {v:k for k,v in vect.vocabulary_.items()}\n",
    "print(str(invert_index_vectorizer)[:100])"
   ]
  },
  {
   "cell_type": "code",
   "execution_count": null,
   "metadata": {
    "scrolled": false
   },
   "outputs": [],
   "source": [
    "invert_index_vectorizer14 = {v:k for k,v in vect14.vocabulary_.items()}\n",
    "invert_index_vectorizer15 = {v:k for k,v in vect15.vocabulary_.items()}\n",
    "invert_index_vectorizer16 = {v:k for k,v in vect16.vocabulary_.items()}\n",
    "invert_index_vectorizer17 = {v:k for k,v in vect17.vocabulary_.items()}\n",
    "invert_index_vectorizer18 = {v:k for k,v in vect18.vocabulary_.items()}\n",
    "invert_index_vectorizer19 = {v:k for k,v in vect19.vocabulary_.items()}\n",
    "invert_index_vectorizer20 = {v:k for k,v in vect20.vocabulary_.items()}\n",
    "\n",
    "print('14',str(invert_index_vectorizer14)[:100])\n",
    "print('15',str(invert_index_vectorizer15)[:100])\n",
    "print('16',str(invert_index_vectorizer16)[:100])\n",
    "print('17',str(invert_index_vectorizer17)[:100])\n",
    "print('18',str(invert_index_vectorizer18)[:100])\n",
    "print('19',str(invert_index_vectorizer19)[:100])\n",
    "print('20',str(invert_index_vectorizer20)[:100])\n"
   ]
  },
  {
   "cell_type": "code",
   "execution_count": null,
   "metadata": {
    "scrolled": false
   },
   "outputs": [],
   "source": [
    "ax1 = plt.subplot(331)\n",
    "graph1 =df2014.ratings.hist()\n",
    "ax1.set_title('2014')\n",
    "\n",
    "ax2 = plt.subplot(332)\n",
    "graph2 =df2015.ratings.hist()\n",
    "ax2.set_title('2015')\n",
    "\n",
    "ax3 = plt.subplot(333)\n",
    "graph3 =df2016.ratings.hist()\n",
    "ax3.set_title('2016')\n",
    "\n",
    "ax4 = plt.subplot(334)\n",
    "graph4 =df2017.ratings.hist()\n",
    "ax4.set_title('2017')\n",
    "\n",
    "ax5 = plt.subplot(335)\n",
    "graph5 =df2018.ratings.hist()\n",
    "ax5.set_title('2018')\n",
    "\n",
    "ax6 = plt.subplot(336)\n",
    "graph6 =df2019.ratings.hist()\n",
    "ax6.set_title('2019')\n",
    "\n",
    "ax7 = plt.subplot(337)\n",
    "graph7 =df2020.ratings.hist()\n",
    "ax7.set_title('2020')\n",
    "\n",
    "plt.tight_layout()"
   ]
  },
  {
   "cell_type": "code",
   "execution_count": null,
   "metadata": {
    "executionInfo": {
     "elapsed": 605,
     "status": "ok",
     "timestamp": 1601795878196,
     "user": {
      "displayName": "전병용",
      "photoUrl": "",
      "userId": "10639278602930142408"
     },
     "user_tz": -540
    },
    "id": "KGMrsY1zeWZl"
   },
   "outputs": [],
   "source": [
    "def rating_to_label(rating) :\n",
    "  if rating >3:\n",
    "    return 1\n",
    "  else:\n",
    "    return 0\n",
    "df2014['y'] = df2014['ratings'].apply(lambda x : rating_to_label(x))\n",
    "df2015['y'] = df2015['ratings'].apply(lambda x : rating_to_label(x))\n",
    "df2016['y'] = df2016['ratings'].apply(lambda x : rating_to_label(x))\n",
    "df2017['y'] = df2017['ratings'].apply(lambda x : rating_to_label(x))\n",
    "df2018['y'] = df2018['ratings'].apply(lambda x : rating_to_label(x))\n",
    "df2019['y'] = df2019['ratings'].apply(lambda x : rating_to_label(x))\n",
    "df2020['y'] = df2020['ratings'].apply(lambda x : rating_to_label(x)) \n",
    "df['y'] = df['ratings'].apply(lambda x : rating_to_label(x))"
   ]
  },
  {
   "cell_type": "code",
   "execution_count": null,
   "metadata": {
    "colab": {
     "base_uri": "https://localhost:8080/",
     "height": 67
    },
    "executionInfo": {
     "elapsed": 654,
     "status": "ok",
     "timestamp": 1601795904105,
     "user": {
      "displayName": "전병용",
      "photoUrl": "",
      "userId": "10639278602930142408"
     },
     "user_tz": -540
    },
    "id": "kouxXTltec0N",
    "outputId": "435499bb-4808-49b1-e88b-6abca345f5b2",
    "scrolled": false
   },
   "outputs": [],
   "source": [
    "print('전체',df.y.value_counts())\n",
    "print('2014\\n',df2014.y.value_counts())\n",
    "print('2015\\n',df2015.y.value_counts())\n",
    "print('2016\\n',df2016.y.value_counts())\n",
    "print('2017\\n',df2017.y.value_counts())\n",
    "print('2018\\n',df2018.y.value_counts())\n",
    "print('2019\\n',df2019.y.value_counts())\n",
    "print('2020\\n',df2020.y.value_counts())"
   ]
  },
  {
   "cell_type": "code",
   "execution_count": null,
   "metadata": {
    "executionInfo": {
     "elapsed": 734,
     "status": "ok",
     "timestamp": 1601796289852,
     "user": {
      "displayName": "전병용",
      "photoUrl": "",
      "userId": "10639278602930142408"
     },
     "user_tz": -540
    },
    "id": "osvXxNHoehuO"
   },
   "outputs": [],
   "source": [
    "y= df2020['y']\n",
    "x_train,x_test, y_train, y_test = train_test_split(tf_idf_vect2020, y, test_size = 0.3)\n",
    "print(x_test.shape)\n",
    "lr = LogisticRegression(random_state=0)\n",
    "lr.fit(x_train, y_train)\n",
    "y_pred = lr.predict(x_test)\n",
    "confmat = confusion_matrix(y_test,y_pred)\n"
   ]
  },
  {
   "cell_type": "code",
   "execution_count": null,
   "metadata": {
    "colab": {
     "base_uri": "https://localhost:8080/",
     "height": 34
    },
    "executionInfo": {
     "elapsed": 675,
     "status": "ok",
     "timestamp": 1601796293416,
     "user": {
      "displayName": "전병용",
      "photoUrl": "",
      "userId": "10639278602930142408"
     },
     "user_tz": -540
    },
    "id": "pHc2-rVfejdU",
    "outputId": "05c84fb6-dbd3-4e51-8977-26cdb0e1bcee"
   },
   "outputs": [],
   "source": [
    "print('accuracy_score',accuracy_score(y_test,y_pred))\n",
    "print('precision_score', precision_score(y_test,y_pred))\n",
    "print('recall_score', recall_score(y_test,y_pred))\n",
    "print('f1_score',f1_score(y_test,y_pred))\n",
    "print('confmat', confmat)"
   ]
  },
  {
   "cell_type": "code",
   "execution_count": null,
   "metadata": {
    "executionInfo": {
     "elapsed": 628,
     "status": "ok",
     "timestamp": 1601796426866,
     "user": {
      "displayName": "전병용",
      "photoUrl": "",
      "userId": "10639278602930142408"
     },
     "user_tz": -540
    },
    "id": "BFwPDz2sgXY0"
   },
   "outputs": [],
   "source": [
    "# positive_random_idx = df[df['y']==1].sample(892, random_state=33).index.tolist()\n",
    "# negative_random_idx = df[df['y']==0].sample(892,random_state=33).index.tolist()\n",
    "# random_idx = positive_random_idx+negative_random_idx\n",
    "\n",
    "# x=tf_idf_vect[random_idx]\n",
    "# y=df['y'][random_idx]\n",
    "# x_train, x_test, y_train, y_test = train_test_split(x,y,test_size=0.3)"
   ]
  },
  {
   "cell_type": "code",
   "execution_count": null,
   "metadata": {
    "colab": {
     "base_uri": "https://localhost:8080/",
     "height": 50
    },
    "executionInfo": {
     "elapsed": 590,
     "status": "ok",
     "timestamp": 1601796448858,
     "user": {
      "displayName": "전병용",
      "photoUrl": "",
      "userId": "10639278602930142408"
     },
     "user_tz": -540
    },
    "id": "qfcDp9uOgfQO",
    "outputId": "b76a1760-dcf0-473e-a10c-cc24e15b8b27"
   },
   "outputs": [],
   "source": [
    "print(x_train.shape)\n",
    "print(x_test.shape)"
   ]
  },
  {
   "cell_type": "code",
   "execution_count": null,
   "metadata": {
    "executionInfo": {
     "elapsed": 619,
     "status": "ok",
     "timestamp": 1601796458988,
     "user": {
      "displayName": "전병용",
      "photoUrl": "",
      "userId": "10639278602930142408"
     },
     "user_tz": -540
    },
    "id": "RmRtNmwbgkUM"
   },
   "outputs": [],
   "source": [
    "lr= LogisticRegression(random_state =0)\n",
    "lr.fit(x_train, y_train)\n",
    "\n",
    "y_pred = lr.predict(x_test)"
   ]
  },
  {
   "cell_type": "code",
   "execution_count": null,
   "metadata": {
    "colab": {
     "base_uri": "https://localhost:8080/",
     "height": 502
    },
    "executionInfo": {
     "elapsed": 4158,
     "status": "ok",
     "timestamp": 1601796501976,
     "user": {
      "displayName": "전병용",
      "photoUrl": "",
      "userId": "10639278602930142408"
     },
     "user_tz": -540
    },
    "id": "kc2zLuMsgt-g",
    "outputId": "5c4e9b47-6be1-4e8d-c1e5-009f9df70f82"
   },
   "outputs": [],
   "source": [
    "plt.rcParams['figure.figsize'] = [10,8]\n",
    "plt.bar(range(len(lr.coef_[0])), lr.coef_[0])"
   ]
  },
  {
   "cell_type": "code",
   "execution_count": null,
   "metadata": {
    "colab": {
     "base_uri": "https://localhost:8080/",
     "height": 50
    },
    "executionInfo": {
     "elapsed": 623,
     "status": "ok",
     "timestamp": 1601796510351,
     "user": {
      "displayName": "전병용",
      "photoUrl": "",
      "userId": "10639278602930142408"
     },
     "user_tz": -540
    },
    "id": "4207rQuFgw3o",
    "outputId": "6ceb2f97-49dd-4372-f1ba-fe6638fa0e48"
   },
   "outputs": [],
   "source": [
    "print(sorted(((value, index) for index, value in enumerate(lr.coef_[0])), reverse=True)[:5])\n",
    "print(sorted(((value, index) for index, value in enumerate(lr.coef_[0])), reverse=True)[-5:])\n"
   ]
  },
  {
   "cell_type": "code",
   "execution_count": null,
   "metadata": {
    "executionInfo": {
     "elapsed": 748,
     "status": "ok",
     "timestamp": 1601796519656,
     "user": {
      "displayName": "전병용",
      "photoUrl": "",
      "userId": "10639278602930142408"
     },
     "user_tz": -540
    },
    "id": "bkFjq-5YgzEQ"
   },
   "outputs": [],
   "source": [
    "coef_pos_index = sorted(((value, index ) for index, value in enumerate(lr.coef_[0])), reverse=True)\n",
    "coef_neg_index = sorted(((value,index) for index, value in enumerate(lr.coef_[0])), reverse= False)"
   ]
  },
  {
   "cell_type": "code",
   "execution_count": null,
   "metadata": {
    "colab": {
     "base_uri": "https://localhost:8080/",
     "height": 353
    },
    "executionInfo": {
     "elapsed": 639,
     "status": "ok",
     "timestamp": 1601796558822,
     "user": {
      "displayName": "전병용",
      "photoUrl": "",
      "userId": "10639278602930142408"
     },
     "user_tz": -540
    },
    "id": "WRxbfn8Xg0yZ",
    "outputId": "4a038bf5-ce8b-4607-e828-267f9429592d"
   },
   "outputs": [],
   "source": [
    "for coef in coef_pos_index[:20]:\n",
    "  print(invert_index_vectorizer[coef[1]], coef[0])"
   ]
  },
  {
   "cell_type": "code",
   "execution_count": null,
   "metadata": {
    "colab": {
     "base_uri": "https://localhost:8080/",
     "height": 353
    },
    "executionInfo": {
     "elapsed": 612,
     "status": "ok",
     "timestamp": 1601796552586,
     "user": {
      "displayName": "전병용",
      "photoUrl": "",
      "userId": "10639278602930142408"
     },
     "user_tz": -540
    },
    "id": "jys9ol4Ug3gy",
    "outputId": "959203e5-d62d-4582-b391-e098d019e337"
   },
   "outputs": [],
   "source": [
    "for coef in coef_neg_index[:20]:\n",
    "  print(invert_index_vectorizer[coef[1]], coef[0])"
   ]
  },
  {
   "cell_type": "code",
   "execution_count": null,
   "metadata": {},
   "outputs": [],
   "source": []
  }
 ],
 "metadata": {
  "colab": {
   "authorship_tag": "ABX9TyPA7iG1IBafxuZoRHwTN4Q5",
   "mount_file_id": "16r5_eRsuyvl-CpkTMke2IyMxs8slARqG",
   "name": "ssg감정분석.ipynb",
   "provenance": []
  },
  "kernelspec": {
   "display_name": "Python 3",
   "language": "python",
   "name": "python3"
  },
  "language_info": {
   "codemirror_mode": {
    "name": "ipython",
    "version": 3
   },
   "file_extension": ".py",
   "mimetype": "text/x-python",
   "name": "python",
   "nbconvert_exporter": "python",
   "pygments_lexer": "ipython3",
   "version": "3.6.10"
  }
 },
 "nbformat": 4,
 "nbformat_minor": 1
}
